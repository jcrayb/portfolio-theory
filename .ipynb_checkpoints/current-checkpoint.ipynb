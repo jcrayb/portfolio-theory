{
 "cells": [
  {
   "cell_type": "code",
   "execution_count": 9,
   "id": "b6819058-2a50-43be-85d0-1d6c299b894f",
   "metadata": {},
   "outputs": [
    {
     "name": "stdout",
     "output_type": "stream",
     "text": [
      "['AMGN', 'BALL', 'COST', 'LLY', 'HSY', 'JNJ', 'LMT', 'MRK', 'MSFT', 'NEE', 'NKE', 'OXY', 'ORCL', 'SO', 'TJX', 'WMT']\n"
     ]
    }
   ],
   "source": [
    "import json\n",
    "import pandas as pd\n",
    "\n",
    "weight_dict = json.load(open('./2017-2024-rfr-gdp.json', 'r'))\n",
    "\n",
    "weights = weight_dict['2023']['Q4']['weights']\n",
    "\n",
    "companies = pd.read_csv(f'./data/returns/returns_{1995}-{2019}.csv').set_index('Unnamed: 0').columns\n",
    "\n",
    "print([companies[i] for i in range(len(companies)) if weights[i] > 0.01])"
   ]
  },
  {
   "cell_type": "code",
   "execution_count": null,
   "id": "1c59d48f-817a-422b-acb4-56d0e046abce",
   "metadata": {},
   "outputs": [],
   "source": []
  }
 ],
 "metadata": {
  "kernelspec": {
   "display_name": "Python 3 (ipykernel)",
   "language": "python",
   "name": "python3"
  },
  "language_info": {
   "codemirror_mode": {
    "name": "ipython",
    "version": 3
   },
   "file_extension": ".py",
   "mimetype": "text/x-python",
   "name": "python",
   "nbconvert_exporter": "python",
   "pygments_lexer": "ipython3",
   "version": "3.11.3"
  }
 },
 "nbformat": 4,
 "nbformat_minor": 5
}
