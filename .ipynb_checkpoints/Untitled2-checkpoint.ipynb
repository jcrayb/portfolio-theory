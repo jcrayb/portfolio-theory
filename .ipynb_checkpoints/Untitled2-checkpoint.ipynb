{
 "cells": [
  {
   "cell_type": "code",
   "execution_count": 1,
   "id": "22d7e956-f851-4f8a-bbc7-5a3aeec989ce",
   "metadata": {},
   "outputs": [],
   "source": [
    "import quarters\n",
    "import companies\n",
    "import numpy as np\n",
    "import pandas as pd\n",
    "import numpy.linalg as la\n",
    "import datetime\n",
    "import yfinance as yf\n",
    "\n",
    "start_year = 1995\n",
    "end_year = 2019\n",
    "a = np.array([5.33/100, 0.9301660004562612/100])"
   ]
  },
  {
   "cell_type": "code",
   "execution_count": 2,
   "id": "b9b472d7-1208-4817-b75d-86e6e756a5f7",
   "metadata": {},
   "outputs": [],
   "source": [
    "def get_stock_weights(start_year, end_year, a):\n",
    "    rfr = quarters.get_mean_rfr_between_years(start_year, end_year)\n",
    "    gdp = quarters.get_gdp_growth_between_years(start_year, end_year)\n",
    "    \n",
    "    returns = pd.read_csv(f'./data/returns/returns_{start_year}-{end_year}.csv').set_index('Unnamed: 0')\n",
    "\n",
    "    mu1 = returns.mean()\n",
    "    mu2 = np.array([np.mean(rfr), np.mean(gdp)])\n",
    "    #print(mu2)\n",
    "    all_companies = returns.columns\n",
    "    n_companies = returns.shape[1]\n",
    "\n",
    "    #adding external parameters\n",
    "    returns['avg_rfr'] = rfr\n",
    "    returns['gdp_growth'] = gdp\n",
    "\n",
    "    total_points = returns.shape[1]\n",
    "    \n",
    "    returns_array = returns.to_numpy().T.astype(float)\n",
    "    cov_array = np.cov(returns_array)\n",
    "    #print(cov_array)\n",
    "    sigma11 = cov_array[0:n_companies, 0:n_companies]\n",
    "    sigma21 = cov_array[n_companies:total_points, 0:n_companies]\n",
    "    sigma12 = cov_array[0:n_companies, n_companies:total_points]\n",
    "    sigma22 = cov_array[n_companies:total_points, n_companies:total_points]\n",
    "    #print(sigma12, sigma22)\n",
    "    mu = mu1 + sigma12@la.inv(sigma22)@(a-mu2)\n",
    "    sigma = sigma11 - sigma12@la.inv(sigma22)@sigma21\n",
    "    w_prime_cond = la.inv(sigma)@mu/(np.ones(n_companies)@la.inv(sigma)@mu)\n",
    "    return w_prime_cond"
   ]
  },
  {
   "cell_type": "code",
   "execution_count": 3,
   "id": "e6f96768-fd0e-4b71-9b3c-63d294d9381d",
   "metadata": {},
   "outputs": [
    {
     "data": {
      "text/plain": [
       "array([ 9.58938362e-01, -1.91953428e+00,  2.70843295e+00,  6.34276128e+00,\n",
       "       -5.88846578e+00, -3.26490098e+00,  4.39118959e+00,  3.13430999e+00,\n",
       "       -9.60301737e-01,  5.59203875e-01, -1.70834733e+00, -2.63411892e+00,\n",
       "       -1.40319013e+00, -7.85825699e+00, -1.96836182e+00, -3.98096374e+00,\n",
       "       -9.42622225e-01, -2.61625131e-01, -1.89806334e-01,  1.27780819e+00,\n",
       "       -3.04407527e+00, -2.51335540e+00,  4.30923075e+00, -5.39796442e+00,\n",
       "        4.72626005e+00,  2.41681239e-01, -5.50876927e-01, -7.77202535e-01,\n",
       "       -3.82238209e+00, -1.27070332e+00, -2.41818313e+00, -5.61848077e+00,\n",
       "       -7.73961452e-01, -4.79894686e-03,  7.94433619e+00,  5.83698577e-01,\n",
       "       -1.21733579e+00, -8.21848087e-01,  5.63406666e-01,  1.05213506e+00,\n",
       "        2.37872130e+00, -4.35353747e+00, -5.12448888e+00,  5.41100152e+00,\n",
       "       -5.63395840e-02, -1.87221662e+00,  7.97585491e-01,  2.47719250e-02,\n",
       "       -1.53102540e+00,  2.21305276e+00, -4.54865718e+00,  8.47664378e-01,\n",
       "       -1.55704062e-01,  4.47062951e-01,  5.03809677e-01, -4.94633234e+00,\n",
       "        1.25687345e-01,  1.76656924e+00,  8.25841441e-02,  6.73030236e+00,\n",
       "        2.88426162e+00,  4.10787997e+00, -4.02069563e+00,  5.57302491e-01,\n",
       "       -2.16269269e+00,  1.06427363e+00, -1.28330388e+00,  4.71055089e-01,\n",
       "        2.65720558e+00,  1.89117599e+00,  3.10416973e+00, -1.36392176e-01,\n",
       "       -1.94714791e-01,  1.33712982e+01,  9.85935952e-01, -4.65573493e-01,\n",
       "       -2.81021553e+00,  4.06483020e+00, -8.51786795e-01, -1.41297121e-01,\n",
       "        4.24132787e+00,  6.02820462e-01,  1.75633290e+00,  3.02807402e-01,\n",
       "        7.43152523e-01, -2.30822953e-01, -7.18311541e-01,  3.16888373e+00,\n",
       "       -6.90549111e-01, -1.14016756e+00, -6.63001309e-02,  3.69356339e+00,\n",
       "        1.12958172e+00, -1.40288326e+00,  1.01376995e+00, -2.29473238e+00,\n",
       "       -1.81700743e+00,  4.86179666e-01,  7.18908216e-01, -5.08381669e+00,\n",
       "        2.68652435e-01,  7.77852175e-01,  2.71706801e-01,  5.62725855e+00,\n",
       "       -3.38998266e+00,  1.93736230e+00,  1.79606024e+00, -2.67859077e+00,\n",
       "       -7.92334580e-01, -7.65253753e-01, -4.48752819e+00,  1.38427628e+00,\n",
       "        1.38156920e+00, -3.40753764e+00,  7.65930306e-01,  5.18979763e+00,\n",
       "       -1.23119561e+00,  3.84148719e+00, -1.05743646e+00,  1.08617218e+00,\n",
       "        4.67737794e-01,  4.38506093e+00,  2.44740817e+00, -2.67451076e+00,\n",
       "       -7.22531496e-01, -2.95964423e+00, -4.57214080e+00, -2.42296357e+00,\n",
       "        3.42047746e+00, -1.03649843e+00, -1.62549395e+00, -1.14302793e+00,\n",
       "        1.56179453e+00, -4.47162724e+00])"
      ]
     },
     "execution_count": 3,
     "metadata": {},
     "output_type": "execute_result"
    }
   ],
   "source": [
    "#weights_dict = {}\n",
    "#for year in range(1995, 2019):\n",
    "weights = get_stock_weights(start_year, end_year, a)\n",
    "weights"
   ]
  },
  {
   "cell_type": "code",
   "execution_count": 4,
   "id": "c1ec72d2-05d4-4cc4-881a-a10a08412d38",
   "metadata": {},
   "outputs": [],
   "source": [
    "from compare import compare_to_benchmark"
   ]
  },
  {
   "cell_type": "code",
   "execution_count": 6,
   "id": "0d44c7c4-dcc9-4fd4-914b-3e60556b489c",
   "metadata": {},
   "outputs": [
    {
     "name": "stdout",
     "output_type": "stream",
     "text": [
      "Index(['MMM', 'ABT', 'ADM', 'ADP', 'APD', 'MO', 'AEP', 'AXP', 'AIG', 'AMGN',\n",
      "       ...\n",
      "       'UNP', 'UNH', 'VZ', 'VFC', 'WBA', 'WMT', 'WFC', 'WMB', 'GWW', 'XEL'],\n",
      "      dtype='object', length=134)\n"
     ]
    }
   ],
   "source": [
    "all_companies = pd.read_csv(f'./data/returns/returns_{start_year}-{end_year}.csv').set_index('Unnamed: 0').columns\n",
    "print(all_companies)\n",
    "comparison = compare_to_benchmark(weights, all_companies, 2019)"
   ]
  },
  {
   "cell_type": "code",
   "execution_count": null,
   "id": "e6583d19-9dfc-41d0-955e-3833a4c2fd36",
   "metadata": {},
   "outputs": [],
   "source": []
  }
 ],
 "metadata": {
  "kernelspec": {
   "display_name": "Python 3 (ipykernel)",
   "language": "python",
   "name": "python3"
  },
  "language_info": {
   "codemirror_mode": {
    "name": "ipython",
    "version": 3
   },
   "file_extension": ".py",
   "mimetype": "text/x-python",
   "name": "python",
   "nbconvert_exporter": "python",
   "pygments_lexer": "ipython3",
   "version": "3.11.3"
  }
 },
 "nbformat": 4,
 "nbformat_minor": 5
}
