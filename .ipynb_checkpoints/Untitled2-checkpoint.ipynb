{
 "cells": [
  {
   "cell_type": "code",
   "execution_count": 1,
   "id": "22d7e956-f851-4f8a-bbc7-5a3aeec989ce",
   "metadata": {},
   "outputs": [],
   "source": [
    "import quarters\n",
    "import companies\n",
    "import numpy as np\n",
    "import pandas as pd\n",
    "import numpy.linalg as la\n",
    "import datetime\n",
    "import yfinance as yf\n",
    "\n",
    "start_year = 1995\n",
    "end_year = 2019\n",
    "a = np.array([0.023734,1.329796395805503/100])"
   ]
  },
  {
   "cell_type": "code",
   "execution_count": 2,
   "id": "b9b472d7-1208-4817-b75d-86e6e756a5f7",
   "metadata": {},
   "outputs": [],
   "source": [
    "def get_stock_weights(start_year, end_year, a):\n",
    "    rfr = quarters.get_mean_rfr_between_years(start_year, end_year)\n",
    "    gdp = quarters.get_gdp_growth_between_years(start_year, end_year)\n",
    "\n",
    "    returns = pd.read_csv(f'./data/returns/returns_{start_year}-{end_year}.csv').set_index('Unnamed: 0')\n",
    "\n",
    "    mu1 = returns.mean()\n",
    "    mu2 = np.array([np.mean(rfr), np.mean(gdp)])\n",
    "    #print(mu2)\n",
    "    all_companies = returns.columns\n",
    "    n_companies = returns.shape[1]\n",
    "\n",
    "    #adding external parameters\n",
    "    returns['avg_rfr'] = rfr\n",
    "    returns['gdp_growth'] = gdp\n",
    "\n",
    "    total_points = returns.shape[1]\n",
    "    \n",
    "    returns_array = returns.to_numpy().T.astype(float)\n",
    "    cov_array = np.cov(returns_array)\n",
    "    #print(cov_array)\n",
    "    sigma11 = cov_array[0:n_companies, 0:n_companies]\n",
    "    sigma21 = cov_array[n_companies:total_points, 0:n_companies]\n",
    "    sigma12 = cov_array[0:n_companies, n_companies:total_points]\n",
    "    sigma22 = cov_array[n_companies:total_points, n_companies:total_points]\n",
    "    #print(sigma12, sigma22)\n",
    "    mu = mu1 + sigma12@la.inv(sigma22)@(a-mu2)\n",
    "    sigma = sigma11 - sigma12@la.inv(sigma22)@sigma21\n",
    "    w_prime_cond = la.inv(sigma)@mu/(np.ones(n_companies)@la.inv(sigma)@mu)\n",
    "    w_prime = la.inv(sigma11)@mu1/(np.ones(n_companies)@la.inv(sigma11)@mu1)\n",
    "    return w_prime_cond, w_prime"
   ]
  },
  {
   "cell_type": "code",
   "execution_count": 3,
   "id": "e6f96768-fd0e-4b71-9b3c-63d294d9381d",
   "metadata": {},
   "outputs": [
    {
     "data": {
      "text/plain": [
       "array([ 0.99307043, -1.29468316, -0.37446484, -0.64736355,  0.9330839 ,\n",
       "       -0.21764656, -2.09004202, -0.61281711, -0.44426718, -0.00701169,\n",
       "        0.09865587,  1.61395457,  0.34894659,  0.73242918, -1.44105389,\n",
       "       -0.52942395,  0.51701188,  1.62484373,  0.06438786, -0.07068733,\n",
       "        1.00745198,  1.57459754, -0.94068445, -0.96782278, -0.36872534,\n",
       "        0.08569166, -0.29973583, -0.08366412,  0.16515699, -0.2318205 ,\n",
       "        2.21825192,  1.47062742, -0.94874063,  1.1136345 , -0.12523684,\n",
       "       -2.45262936,  0.25269006, -0.01097704, -0.01416635, -2.28185426,\n",
       "       -0.5285185 ,  0.38620292,  0.5637397 ,  0.1391709 ,  0.28634123,\n",
       "        1.20512955,  0.73512331, -2.40659354,  1.82187934, -1.90318965,\n",
       "        1.96401318,  0.49939481,  1.4444228 , -0.21244977,  0.47930972,\n",
       "        0.23314026,  0.2984706 , -1.62272343,  0.02093434, -0.58499648,\n",
       "       -0.43636475, -0.0025649 ,  1.06837065, -0.20603183, -0.28367125,\n",
       "       -0.75036645, -0.62343907,  0.73496389, -1.49420855,  0.36836277,\n",
       "        0.80496652, -0.42094576, -0.15503594, -2.37160315,  0.28168531,\n",
       "       -0.52665014,  0.06241425, -0.86641746, -1.37844795, -0.26276614,\n",
       "       -1.40946688,  0.25247019,  0.11486001, -1.1143742 , -0.01101632,\n",
       "       -0.47438674,  0.33922826, -1.275662  ,  0.09576334, -0.2266062 ,\n",
       "        0.1710585 ,  0.19108578,  0.62959212, -0.00361683,  0.84910992,\n",
       "        1.07090746, -0.57517793,  0.84991408,  0.967874  ,  0.25350528,\n",
       "       -0.85479889,  0.10789213,  1.10203336, -0.94527809,  0.76831266,\n",
       "        1.53114928, -0.21207391,  2.29452533,  0.95526816, -0.5679033 ,\n",
       "        0.14653072,  0.19066186,  0.17363112, -0.37569641, -0.40741493,\n",
       "        0.87815942,  1.34376586,  0.02276326,  1.42211392, -0.44320864,\n",
       "        0.0381392 , -0.47724885,  0.88493654,  0.01916594,  0.11259546,\n",
       "        0.17728204, -1.21750525, -1.24712672, -0.81035167,  1.57287824,\n",
       "       -0.87899623,  0.15754504,  0.26229869, -0.13912577])"
      ]
     },
     "execution_count": 3,
     "metadata": {},
     "output_type": "execute_result"
    }
   ],
   "source": [
    "#weights_dict = {}\n",
    "#for year in range(1995, 2019):\n",
    "wp, w = get_stock_weights(start_year, end_year, a)\n",
    "w"
   ]
  },
  {
   "cell_type": "code",
   "execution_count": 4,
   "id": "c1ec72d2-05d4-4cc4-881a-a10a08412d38",
   "metadata": {},
   "outputs": [],
   "source": [
    "from compare import compare_to_benchmark"
   ]
  },
  {
   "cell_type": "code",
   "execution_count": 5,
   "id": "0d44c7c4-dcc9-4fd4-914b-3e60556b489c",
   "metadata": {},
   "outputs": [
    {
     "name": "stdout",
     "output_type": "stream",
     "text": [
      "Index(['MMM', 'ABT', 'ADM', 'ADP', 'APD', 'MO', 'AEP', 'AXP', 'AIG', 'AMGN',\n",
      "       ...\n",
      "       'UNP', 'UNH', 'VZ', 'VFC', 'WBA', 'WMT', 'WFC', 'WMB', 'GWW', 'XEL'],\n",
      "      dtype='object', length=134)\n"
     ]
    }
   ],
   "source": [
    "all_companies = pd.read_csv(f'./data/returns/returns_{start_year}-{end_year}.csv').set_index('Unnamed: 0').columns\n",
    "print(all_companies)\n",
    "\n",
    "w1=[4.948164430305507e-10, 1.7614318901641165e-10, 6.054779474920418e-11, 1.674731729151316e-10, 2.569755915855341e-10, 2.827317527962506e-10, 9.616344280281695e-11, 2.0975142017860457e-10, 5.7832938533018616e-11, 0.06424928354896987, 0.0776564712102905, 1.007349828822585e-10, 8.27234662419562e-11, 1.410265715153801e-10, 0.060337218917329224, 6.584838605758495e-10, 1.4099305466209813e-09, 8.835088840744245e-11, 6.654537647976172e-11, 7.45045826825152e-10, 8.617408924441119e-11, 2.1198561964766794e-10, 6.287875930867192e-10, 2.1103545376629222e-10, 5.35557685681256e-09, 1.9381310413578388e-10, 0.021603647481915227, 1.1017377376943919e-10, 3.369257750996578e-10, 4.5092855297839094e-11, 9.890873615465715e-11, 1.239279814191e-10, 8.17876777209958e-11, 9.479466931851645e-07, 1.6123667417226965e-10, 0.05279275863055685, 6.419636728092929e-10, 4.5579312293828696e-10, 1.6754295592690556e-10, 3.115919840001684e-10, 3.0228225285340565e-10, 1.8915272477236853e-10, 3.9565688092204253e-10, 1.3557369850474874e-10, 1.2724503616260303e-10, 1.5427081403547115e-10, 3.160649570670029e-07, 5.419302603402251e-10, 0.061082073817141584, 1.1365209425626975e-10, 1.5990439864430664e-09, 0.02868532426960694, 1.8976693990630016e-10, 1.8656158251492998e-10, 4.87318394574018e-11, 1.0838256108350161e-09, 6.1055744869548e-11, 3.8373454724845243e-10, 9.541610266551721e-11, 2.376917768994358e-10, 1.324985658885026e-08, 2.469509083938332e-10, 0.1505648019129846, 1.8390330018023353e-10, 1.414813940705103e-10, 8.032150169771836e-11, 1.1707231059718474e-10, 1.437369137874759e-09, 2.379231354644081e-10, 0.0011849361952237887, 1.9713876446725534e-10, 5.7299787871842845e-11, 3.926383447801879e-11, 2.4879101366812134e-10, 2.2163722452277884e-10, 3.4961713697069374e-10, 1.3997303825622446e-10, 2.457738567990632e-10, 3.6097233363777126e-10, 7.419898020544463e-10, 1.1212407353284104e-09, 1.5910672858455707e-10, 7.392863565808028e-10, 3.9775893996664633e-10, 5.832484529960382e-11, 1.0945847825720697e-10, 2.334075646829782e-10, 1.0992344632235027e-10, 6.46586260316562e-08, 0.017338836885694715, 2.2843553979136982e-10, 1.4022724667921105e-10, 3.7767666947699535e-10, 0.06783942425703335, 0.188263313207714, 0.03523747700819351, 1.6862574704417136e-10, 0.05582450465129036, 1.2029980725533022e-10, 0.05791009936285337, 1.1859018748570065e-09, 2.1444126758108567e-10, 7.035751660895268e-11, 1.7524857341445126e-10, 8.905842980809569e-11, 9.180761734797523e-10, 1.1557945726842773e-10, 9.374521305382879e-11, 2.7122919265920006e-08, 2.3110247797888886e-10, 1.388224381231746e-10, 1.6624592053649936e-10, 7.727383885988694e-09, 3.632924314892921e-10, 2.9013250801294707e-10, 1.5984588939353115e-10, 1.902888979622222e-10, 0.029761615672534214, 7.836683505535872e-11, 8.208927147000203e-11, 1.375652669841576e-10, 1.2048786973868133e-10, 5.01950683336383e-11, 0.029666762438158398, 2.4892168635455905e-08, 3.35703816859815e-09, 1.9611333484802927e-10, 1.4909605822540317e-10, 2.290200271858282e-10, 2.5589495453253075e-10, 7.139231564629211e-10, 9.468542872190775e-09, 2.3014316048292397e-10, 2.2610903586204142e-10]\n",
    "\n",
    "#comparison1= compare_to_benchmark([w1], all_companies, datetime.datetime(2019, 1, 1))"
   ]
  },
  {
   "cell_type": "code",
   "execution_count": 6,
   "id": "212ac656-73d5-4014-855e-11106b94349c",
   "metadata": {},
   "outputs": [
    {
     "name": "stdout",
     "output_type": "stream",
     "text": [
      "2019 Q1\n"
     ]
    },
    {
     "ename": "ValueError",
     "evalue": "Must provide value for one of: 'start', 'end', 'period'",
     "output_type": "error",
     "traceback": [
      "\u001b[0;31m---------------------------------------------------------------------------\u001b[0m",
      "\u001b[0;31mValueError\u001b[0m                                Traceback (most recent call last)",
      "Cell \u001b[0;32mIn[6], line 18\u001b[0m\n\u001b[1;32m     15\u001b[0m start_date \u001b[38;5;241m=\u001b[39m q_dates[year][quarter][\u001b[38;5;124m'\u001b[39m\u001b[38;5;124mstart\u001b[39m\u001b[38;5;124m'\u001b[39m]\n\u001b[1;32m     16\u001b[0m end_date \u001b[38;5;241m=\u001b[39m q_dates[year][quarter][\u001b[38;5;124m'\u001b[39m\u001b[38;5;124mend\u001b[39m\u001b[38;5;124m'\u001b[39m]\n\u001b[0;32m---> 18\u001b[0m comparison \u001b[38;5;241m=\u001b[39m \u001b[43mcompare_to_benchmark\u001b[49m\u001b[43m(\u001b[49m\u001b[43m[\u001b[49m\u001b[43mw1\u001b[49m\u001b[43m,\u001b[49m\u001b[43m \u001b[49m\u001b[43mw2\u001b[49m\u001b[43m]\u001b[49m\u001b[43m,\u001b[49m\u001b[43m \u001b[49m\u001b[43mall_companies\u001b[49m\u001b[43m,\u001b[49m\u001b[43m \u001b[49m\u001b[43mstart_date\u001b[49m\u001b[43m)\u001b[49m\n\u001b[1;32m     19\u001b[0m \u001b[38;5;28mrange\u001b[39m \u001b[38;5;241m=\u001b[39m comparison\u001b[38;5;241m.\u001b[39mloc[(comparison\u001b[38;5;241m.\u001b[39mindex\u001b[38;5;241m>\u001b[39m\u001b[38;5;241m=\u001b[39mstart_date) \u001b[38;5;241m&\u001b[39m (comparison\u001b[38;5;241m.\u001b[39mindex\u001b[38;5;241m<\u001b[39mend_date)]\n\u001b[1;32m     20\u001b[0m \u001b[38;5;28;01mif\u001b[39;00m df\u001b[38;5;241m.\u001b[39mempty:\n",
      "File \u001b[0;32m~/Documents/GitHub/portfolio-theory/compare.py:15\u001b[0m, in \u001b[0;36mcompare_to_benchmark\u001b[0;34m(weights, companies, start_date, benchmark)\u001b[0m\n\u001b[1;32m     13\u001b[0m company \u001b[38;5;241m=\u001b[39m companies[i]\n\u001b[1;32m     14\u001b[0m w \u001b[38;5;241m=\u001b[39m weight[i]\n\u001b[0;32m---> 15\u001b[0m history \u001b[38;5;241m=\u001b[39m \u001b[43myfc\u001b[49m\u001b[38;5;241;43m.\u001b[39;49m\u001b[43mTicker\u001b[49m\u001b[43m(\u001b[49m\u001b[43mcompany\u001b[49m\u001b[43m)\u001b[49m\u001b[38;5;241;43m.\u001b[39;49m\u001b[43mhistory\u001b[49m\u001b[43m(\u001b[49m\u001b[43mstart\u001b[49m\u001b[38;5;241;43m=\u001b[39;49m\u001b[43mstart_date\u001b[49m\u001b[43m)\u001b[49m[\u001b[38;5;124m'\u001b[39m\u001b[38;5;124mClose\u001b[39m\u001b[38;5;124m'\u001b[39m]\n\u001b[1;32m     16\u001b[0m \u001b[38;5;28;01mtry\u001b[39;00m:\n\u001b[1;32m     17\u001b[0m     adjusted \u001b[38;5;241m=\u001b[39m history\u001b[38;5;241m/\u001b[39mhistory\u001b[38;5;241m.\u001b[39miloc[\u001b[38;5;241m0\u001b[39m]\u001b[38;5;241m*\u001b[39mw\n",
      "File \u001b[0;32m~/.local/lib/python3.11/site-packages/yfinance_cache/yfc_ticker.py:230\u001b[0m, in \u001b[0;36mTicker.history\u001b[0;34m(self, interval, max_age, period, start, end, prepost, actions, adjust_splits, adjust_divs, keepna, proxy, rounding, debug, quiet, trigger_at_market_close)\u001b[0m\n\u001b[1;32m    228\u001b[0m     h \u001b[38;5;241m=\u001b[39m hist\u001b[38;5;241m.\u001b[39mget(start\u001b[38;5;241m=\u001b[39m\u001b[38;5;28;01mNone\u001b[39;00m, end\u001b[38;5;241m=\u001b[39m\u001b[38;5;28;01mNone\u001b[39;00m, period\u001b[38;5;241m=\u001b[39mperiod, max_age\u001b[38;5;241m=\u001b[39mmax_age, trigger_at_market_close\u001b[38;5;241m=\u001b[39mtrigger_at_market_close, quiet\u001b[38;5;241m=\u001b[39mquiet)\n\u001b[1;32m    229\u001b[0m \u001b[38;5;28;01melif\u001b[39;00m interday:\n\u001b[0;32m--> 230\u001b[0m     h \u001b[38;5;241m=\u001b[39m \u001b[43mhist\u001b[49m\u001b[38;5;241;43m.\u001b[39;49m\u001b[43mget\u001b[49m\u001b[43m(\u001b[49m\u001b[43mstart_d\u001b[49m\u001b[43m,\u001b[49m\u001b[43m \u001b[49m\u001b[43mend_d\u001b[49m\u001b[43m,\u001b[49m\u001b[43m \u001b[49m\u001b[43mperiod\u001b[49m\u001b[38;5;241;43m=\u001b[39;49m\u001b[38;5;28;43;01mNone\u001b[39;49;00m\u001b[43m,\u001b[49m\u001b[43m \u001b[49m\u001b[43mmax_age\u001b[49m\u001b[38;5;241;43m=\u001b[39;49m\u001b[43mmax_age\u001b[49m\u001b[43m,\u001b[49m\u001b[43m \u001b[49m\u001b[43mtrigger_at_market_close\u001b[49m\u001b[38;5;241;43m=\u001b[39;49m\u001b[43mtrigger_at_market_close\u001b[49m\u001b[43m,\u001b[49m\u001b[43m \u001b[49m\u001b[43mquiet\u001b[49m\u001b[38;5;241;43m=\u001b[39;49m\u001b[43mquiet\u001b[49m\u001b[43m)\u001b[49m\n\u001b[1;32m    231\u001b[0m \u001b[38;5;28;01melse\u001b[39;00m:\n\u001b[1;32m    232\u001b[0m     h \u001b[38;5;241m=\u001b[39m hist\u001b[38;5;241m.\u001b[39mget(start_dt, end_dt, period\u001b[38;5;241m=\u001b[39m\u001b[38;5;28;01mNone\u001b[39;00m, max_age\u001b[38;5;241m=\u001b[39mmax_age, trigger_at_market_close\u001b[38;5;241m=\u001b[39mtrigger_at_market_close, quiet\u001b[38;5;241m=\u001b[39mquiet)\n",
      "File \u001b[0;32m~/.local/lib/python3.11/site-packages/yfinance_cache/yfc_prices_manager.py:441\u001b[0m, in \u001b[0;36mPriceHistory.get\u001b[0;34m(self, start, end, period, max_age, trigger_at_market_close, repair, prepost, adjust_splits, adjust_divs, quiet)\u001b[0m\n\u001b[1;32m    439\u001b[0m \u001b[38;5;28;01mdef\u001b[39;00m \u001b[38;5;21mget\u001b[39m(\u001b[38;5;28mself\u001b[39m, start\u001b[38;5;241m=\u001b[39m\u001b[38;5;28;01mNone\u001b[39;00m, end\u001b[38;5;241m=\u001b[39m\u001b[38;5;28;01mNone\u001b[39;00m, period\u001b[38;5;241m=\u001b[39m\u001b[38;5;28;01mNone\u001b[39;00m, max_age\u001b[38;5;241m=\u001b[39m\u001b[38;5;28;01mNone\u001b[39;00m, trigger_at_market_close\u001b[38;5;241m=\u001b[39m\u001b[38;5;28;01mFalse\u001b[39;00m, repair\u001b[38;5;241m=\u001b[39m\u001b[38;5;28;01mTrue\u001b[39;00m, prepost\u001b[38;5;241m=\u001b[39m\u001b[38;5;28;01mFalse\u001b[39;00m, adjust_splits\u001b[38;5;241m=\u001b[39m\u001b[38;5;28;01mFalse\u001b[39;00m, adjust_divs\u001b[38;5;241m=\u001b[39m\u001b[38;5;28;01mFalse\u001b[39;00m, quiet\u001b[38;5;241m=\u001b[39m\u001b[38;5;28;01mFalse\u001b[39;00m):\n\u001b[1;32m    440\u001b[0m     \u001b[38;5;28;01mif\u001b[39;00m start \u001b[38;5;129;01mis\u001b[39;00m \u001b[38;5;28;01mNone\u001b[39;00m \u001b[38;5;129;01mand\u001b[39;00m end \u001b[38;5;129;01mis\u001b[39;00m \u001b[38;5;28;01mNone\u001b[39;00m \u001b[38;5;129;01mand\u001b[39;00m period \u001b[38;5;129;01mis\u001b[39;00m \u001b[38;5;28;01mNone\u001b[39;00m:\n\u001b[0;32m--> 441\u001b[0m         \u001b[38;5;28;01mraise\u001b[39;00m \u001b[38;5;167;01mValueError\u001b[39;00m(\u001b[38;5;124m\"\u001b[39m\u001b[38;5;124mMust provide value for one of: \u001b[39m\u001b[38;5;124m'\u001b[39m\u001b[38;5;124mstart\u001b[39m\u001b[38;5;124m'\u001b[39m\u001b[38;5;124m, \u001b[39m\u001b[38;5;124m'\u001b[39m\u001b[38;5;124mend\u001b[39m\u001b[38;5;124m'\u001b[39m\u001b[38;5;124m, \u001b[39m\u001b[38;5;124m'\u001b[39m\u001b[38;5;124mperiod\u001b[39m\u001b[38;5;124m'\u001b[39m\u001b[38;5;124m\"\u001b[39m)\n\u001b[1;32m    442\u001b[0m     \u001b[38;5;28;01mif\u001b[39;00m start \u001b[38;5;129;01mis\u001b[39;00m \u001b[38;5;129;01mnot\u001b[39;00m \u001b[38;5;28;01mNone\u001b[39;00m:\n\u001b[1;32m    443\u001b[0m         yfcu\u001b[38;5;241m.\u001b[39mTypeCheckIntervalDt(start, \u001b[38;5;28mself\u001b[39m\u001b[38;5;241m.\u001b[39minterval, \u001b[38;5;124m\"\u001b[39m\u001b[38;5;124mstart\u001b[39m\u001b[38;5;124m\"\u001b[39m, strict\u001b[38;5;241m=\u001b[39m\u001b[38;5;28;01mFalse\u001b[39;00m)\n",
      "\u001b[0;31mValueError\u001b[0m: Must provide value for one of: 'start', 'end', 'period'"
     ]
    }
   ],
   "source": [
    "import json\n",
    "q_dates = quarters.get_dates_between_years(2019, 2023)\n",
    "weights1 = json.load(open('./weights_rfr_gdp.json', 'r'))\n",
    "weights2 = json.load(open('./full_weights.json', 'r'))\n",
    "\n",
    "df = pd.DataFrame(columns=['benchmark'])\n",
    "\n",
    "for year in q_dates:\n",
    "    for quarter in q_dates[year]:\n",
    "        print(year, quarter)\n",
    "        str_year = str(year)\n",
    "        w1 = weights1[str_year][quarter]['weights']\n",
    "        w2 = weights2[str_year][quarter]['weights']\n",
    "        \n",
    "        start_date = q_dates[year][quarter]['start']\n",
    "        end_date = q_dates[year][quarter]['end']\n",
    "        \n",
    "        comparison = compare_to_benchmark([w1, w2], all_companies, start_date)\n",
    "        range = comparison.loc[(comparison.index>=start_date) & (comparison.index<end_date)]\n",
    "        if df.empty:\n",
    "            df = range\n",
    "        else:\n",
    "            last_row = df.iloc[-1]\n",
    "\n",
    "            for column in last_row.index:\n",
    "                value = last_row[column]\n",
    "                range[column] *= value\n",
    "            \n",
    "            df = pd.concat([df, range])\n",
    "        print(range)"
   ]
  },
  {
   "cell_type": "code",
   "execution_count": null,
   "id": "e6583d19-9dfc-41d0-955e-3833a4c2fd36",
   "metadata": {},
   "outputs": [],
   "source": [
    "import plotly.express as px\n",
    "#comparison['benchmark']  = comparison\n",
    "px.line(comparison1)"
   ]
  },
  {
   "cell_type": "code",
   "execution_count": null,
   "id": "3e408133-4182-4c63-a4cd-58da2a751fca",
   "metadata": {},
   "outputs": [],
   "source": []
  }
 ],
 "metadata": {
  "kernelspec": {
   "display_name": "Python 3 (ipykernel)",
   "language": "python",
   "name": "python3"
  },
  "language_info": {
   "codemirror_mode": {
    "name": "ipython",
    "version": 3
   },
   "file_extension": ".py",
   "mimetype": "text/x-python",
   "name": "python",
   "nbconvert_exporter": "python",
   "pygments_lexer": "ipython3",
   "version": "3.11.3"
  }
 },
 "nbformat": 4,
 "nbformat_minor": 5
}
