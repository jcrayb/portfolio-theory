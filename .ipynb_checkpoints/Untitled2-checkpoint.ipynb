{
 "cells": [
  {
   "cell_type": "code",
   "execution_count": 74,
   "id": "22d7e956-f851-4f8a-bbc7-5a3aeec989ce",
   "metadata": {},
   "outputs": [],
   "source": [
    "import quarters\n",
    "import companies\n",
    "import numpy as np\n",
    "import pandas as pd\n",
    "import numpy.linalg as la\n",
    "import datetime\n",
    "import yfinance as yf\n",
    "\n",
    "start_year = 1995\n",
    "end_year = 2019\n",
    "a = np.array([5.33/100, 0.9301660004562612/100])"
   ]
  },
  {
   "cell_type": "code",
   "execution_count": 66,
   "id": "b9b472d7-1208-4817-b75d-86e6e756a5f7",
   "metadata": {},
   "outputs": [],
   "source": [
    "def get_weights(start_year, end_year, a):\n",
    "    rfr = quarters.get_mean_rfr_between_years(start_year, end_year)/100\n",
    "    gdp = quarters.get_gdp_growth_between_years(start_year, end_year)\n",
    "    \n",
    "    returns = pd.read_csv(f'./data/returns/returns_{start_year}-{end_year}.csv').set_index('Unnamed: 0')\n",
    "\n",
    "    mu1 = returns.mean()\n",
    "    mu2 = np.array([np.mean(rfr), np.mean(gdp)])\n",
    "    #print(mu2)\n",
    "    all_companies = returns.columns\n",
    "    n_companies = returns.shape[1]\n",
    "\n",
    "    #adding external parameters\n",
    "    returns['avg_rfr'] = rfr\n",
    "    returns['gdp_growth'] = gdp\n",
    "\n",
    "    total_points = returns.shape[1]\n",
    "    \n",
    "    returns_array = returns.to_numpy().T.astype(float)\n",
    "    cov_array = np.cov(returns_array)\n",
    "    #print(cov_array)\n",
    "    sigma11 = cov_array[0:n_companies, 0:n_companies]\n",
    "    sigma21 = cov_array[n_companies:total_points, 0:n_companies]\n",
    "    sigma12 = cov_array[0:n_companies, n_companies:total_points]\n",
    "    sigma22 = cov_array[n_companies:total_points, n_companies:total_points]\n",
    "    #print(sigma12, sigma22)\n",
    "    mu = mu1 + sigma12@la.inv(sigma22)@(a-mu2)\n",
    "    sigma = sigma11 - sigma12@la.inv(sigma22)@sigma21\n",
    "    w_prime_cond = la.inv(sigma)@mu/(np.ones(n_companies)@la.inv(sigma)@mu)\n",
    "    return w_prime_cond"
   ]
  },
  {
   "cell_type": "code",
   "execution_count": 76,
   "id": "e6f96768-fd0e-4b71-9b3c-63d294d9381d",
   "metadata": {},
   "outputs": [],
   "source": [
    "weights_dict = {}\n",
    "for year in range(1995, 2019):\n",
    "    weights_dict[year] = get_weights(start_year, end_year, a)"
   ]
  },
  {
   "cell_type": "code",
   "execution_count": null,
   "id": "c1ec72d2-05d4-4cc4-881a-a10a08412d38",
   "metadata": {},
   "outputs": [],
   "source": []
  },
  {
   "cell_type": "code",
   "execution_count": null,
   "id": "e6583d19-9dfc-41d0-955e-3833a4c2fd36",
   "metadata": {},
   "outputs": [],
   "source": []
  }
 ],
 "metadata": {
  "kernelspec": {
   "display_name": "Python 3 (ipykernel)",
   "language": "python",
   "name": "python3"
  },
  "language_info": {
   "codemirror_mode": {
    "name": "ipython",
    "version": 3
   },
   "file_extension": ".py",
   "mimetype": "text/x-python",
   "name": "python",
   "nbconvert_exporter": "python",
   "pygments_lexer": "ipython3",
   "version": "3.11.5"
  }
 },
 "nbformat": 4,
 "nbformat_minor": 5
}
