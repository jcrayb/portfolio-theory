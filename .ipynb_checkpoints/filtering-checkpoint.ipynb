{
 "cells": [
  {
   "cell_type": "code",
   "execution_count": 30,
   "id": "3872466d-02e0-4ad0-81a1-e8dad7d6277c",
   "metadata": {},
   "outputs": [],
   "source": [
    "import json\n",
    "\n",
    "file = json.load(open('./1995-2019.json', 'r'))\n",
    "\n",
    "weights = file['2022']['Q4']['weights']\n",
    "\n",
    "filtered = [weight if weight > 0.001 else 0 for weight in weights]"
   ]
  },
  {
   "cell_type": "code",
   "execution_count": 31,
   "id": "ead8acc2-515c-46a0-86a8-1ee519623ef9",
   "metadata": {},
   "outputs": [],
   "source": [
    "import numpy as np\n",
    "import pandas as pd\n",
    "\n",
    "all_companies = pd.read_csv('../data/returns/returns_1995-2019.csv').columns"
   ]
  },
  {
   "cell_type": "code",
   "execution_count": 32,
   "id": "8581a184-a8d2-437d-a76e-c3d370432ab1",
   "metadata": {},
   "outputs": [],
   "source": [
    "companies = [all_companies[i] if filtered[i]>0 else None for i in range(len(filtered))]"
   ]
  },
  {
   "cell_type": "code",
   "execution_count": 33,
   "id": "e4b0d6dc-b2f0-4507-b29b-1172d5f52298",
   "metadata": {},
   "outputs": [
    {
     "name": "stdout",
     "output_type": "stream",
     "text": [
      "American International Group, Inc.\n",
      "Amgen Inc.\n",
      "Avery Dennison Corporation\n",
      "The Cigna Group\n",
      "Conagra Brands, Inc.\n",
      "Consolidated Edison, Inc.\n",
      "Edison International\n",
      "Entergy Corporation\n",
      "Hasbro, Inc.\n",
      "Illinois Tool Works Inc.\n",
      "Micron Technology, Inc.\n",
      "Motorola Solutions, Inc.\n",
      "Newmont Corporation\n",
      "NextEra Energy, Inc.\n",
      "Norfolk Southern Corporation\n",
      "Nucor Corporation\n",
      "Snap-on Incorporated\n",
      "Textron Inc.\n"
     ]
    }
   ],
   "source": [
    "import yfinance as yf\n",
    "\n",
    "for company in companies:\n",
    "    if company:\n",
    "        ticker = yf.Ticker(company)\n",
    "        print(ticker.info['longName'])"
   ]
  },
  {
   "cell_type": "code",
   "execution_count": null,
   "id": "fe0b047f-cee4-49f0-9d05-8b72a7666f24",
   "metadata": {},
   "outputs": [],
   "source": []
  }
 ],
 "metadata": {
  "kernelspec": {
   "display_name": "Python 3 (ipykernel)",
   "language": "python",
   "name": "python3"
  },
  "language_info": {
   "codemirror_mode": {
    "name": "ipython",
    "version": 3
   },
   "file_extension": ".py",
   "mimetype": "text/x-python",
   "name": "python",
   "nbconvert_exporter": "python",
   "pygments_lexer": "ipython3",
   "version": "3.11.3"
  }
 },
 "nbformat": 4,
 "nbformat_minor": 5
}
