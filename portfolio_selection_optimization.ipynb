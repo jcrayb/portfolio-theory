{
 "cells": [
  {
   "cell_type": "markdown",
   "metadata": {},
   "source": [
    "# Portfolio Selection Optimization\n",
    "This model is an example of the classic [Markowitz portfolio selection optimization model](https://en.wikipedia.org/wiki/Markowitz_model). We want to find the fraction of the portfolio to invest among a set of stocks that balances risk and return. It is a Quadratic Programming (QP) model with vector and matrix data for returns and risk, respectively. This is best suited to a matrix formulation, so we use the Gurobi Python *matrix* interface. The basic model is fairly simple, so we also solve it parametrically to find the efficient frontier.\n",
    "\n",
    "**Download the Repository** <br /> \n",
    "You can download the repository containing this and other examples by clicking [here](https://github.com/Gurobi/modeling-examples/archive/master.zip). \n",
    "\n",
    "\n",
    "## Model Formulation\n",
    "### Parameters\n",
    "\n",
    "We use the [Greek values](https://en.wikipedia.org/wiki/Greeks_\\(finance\\)) that are traditional in finance:\n",
    "\n",
    "- $\\delta$: n-element vector measuring the change in price for each stock\n",
    "- $\\sigma$: n x n matrix measuring the covariance among stocks\n",
    "\n",
    "There is one additional parameter when solving the model parametrically:\n",
    "\n",
    "- r: target return\n",
    "\n",
    "\n",
    "### Decision Variables\n",
    "- $x \\ge 0$: n-element vector where each element represents the fraction of the porfolio to invest in each stock\n",
    "\n",
    "### Objective Function\n",
    "Minimize the total risk, a convex quadratic function:\n",
    "\n",
    "\\begin{equation}\n",
    "\\min x^t \\cdot \\sigma \\cdot x\n",
    "\\end{equation}\n",
    "\n",
    "### Constraints\n",
    "\n",
    "Allocate the entire portfolio: the total investments should be 1.0 (100%), where $e$ is a unit vector (all 1's):\n",
    "\n",
    "\\begin{equation}\n",
    "e \\cdot x = 1\n",
    "\\end{equation}\n",
    "\n",
    "\n",
    "Return: When we solve the model parametrically for different return values $r$, we add a constraint on the target return:\n",
    "\n",
    "\\begin{equation}\n",
    "\\delta \\cdot x = r\n",
    "\\end{equation}"
   ]
  },
  {
   "cell_type": "markdown",
   "metadata": {},
   "source": [
    "## Python Implementation\n",
    "### Stock data\n",
    "Use [yfinance](https://pypi.org/project/yfinance/) library to get the latest 2 years of _actual stock data_ from the 20 most profitable US companies, [according to Wikipedia in April 2021](https://en.wikipedia.org/wiki/List_of_largest_companies_in_the_United_States_by_revenue#List_of_companies_by_profit)."
   ]
  },
  {
   "cell_type": "code",
   "execution_count": null,
   "metadata": {},
   "outputs": [],
   "source": [
    "%pip install gurobipy yfinance"
   ]
  },
  {
   "cell_type": "code",
   "execution_count": 2,
   "metadata": {
    "scrolled": true
   },
   "outputs": [
    {
     "name": "stdout",
     "output_type": "stream",
     "text": [
      "[*********************100%***********************]  20 of 20 completed\n"
     ]
    }
   ],
   "source": [
    "import yfinance as yf\n",
    "\n",
    "stocks = ['BRK-A', 'AAPL', 'MSFT', 'JPM', 'GOOG', 'BAC', 'INTC', 'WFC',\n",
    "          'C', 'VZ', 'META', 'PFE', 'JNJ', 'WMT', 'XOM',\n",
    "          'FNMA', 'T', 'UNH', 'CMCSA', 'V' ]\n",
    "\n",
    "data = yf.download(stocks, period='2y')"
   ]
  },
  {
   "cell_type": "markdown",
   "metadata": {},
   "source": [
    "### Compute Greeks\n",
    "Using the downloaded stock data, find the delta (return), sigma (covariance) and standard deviation values for stock prices:"
   ]
  },
  {
   "cell_type": "code",
   "execution_count": 3,
   "metadata": {},
   "outputs": [],
   "source": [
    "import numpy as np\n",
    "\n",
    "closes = np.transpose(np.array(data.Close)) # matrix of daily closing prices\n",
    "absdiff = np.diff(closes)                   # change in closing price each day\n",
    "reldiff = np.divide(absdiff, closes[:,:-1]) # relative change in daily closing price\n",
    "delta = np.mean(reldiff, axis=1)            # mean price change\n",
    "sigma = np.cov(reldiff)                     # covariance (standard deviations)\n",
    "std = np.std(reldiff, axis=1)               # standard deviation"
   ]
  },
  {
   "cell_type": "markdown",
   "metadata": {},
   "source": [
    "## Minimize risk by solving QP model"
   ]
  },
  {
   "cell_type": "code",
   "execution_count": 4,
   "metadata": {},
   "outputs": [
    {
     "name": "stdout",
     "output_type": "stream",
     "text": [
      "Gurobi Optimizer version 10.0.3 build v10.0.3rc0 (linux64)\n",
      "\n",
      "CPU model: AMD Ryzen 9 5900X 12-Core Processor, instruction set [SSE2|AVX|AVX2]\n",
      "Thread count: 12 physical cores, 24 logical processors, using up to 24 threads\n",
      "\n",
      "Optimize a model with 1 rows, 20 columns and 20 nonzeros\n",
      "Model fingerprint: 0xd80f18a5\n",
      "Model has 210 quadratic objective terms\n",
      "Coefficient statistics:\n",
      "  Matrix range     [1e+00, 1e+00]\n",
      "  Objective range  [0e+00, 0e+00]\n",
      "  QObjective range [7e-06, 5e-03]\n",
      "  Bounds range     [0e+00, 0e+00]\n",
      "  RHS range        [1e+00, 1e+00]\n",
      "Presolve time: 0.00s\n",
      "Presolved: 1 rows, 20 columns, 20 nonzeros\n",
      "Presolved model has 210 quadratic objective terms\n",
      "Ordering time: 0.00s\n",
      "\n",
      "Barrier statistics:\n",
      " Free vars  : 19\n",
      " AA' NZ     : 1.900e+02\n",
      " Factor NZ  : 2.100e+02\n",
      " Factor Ops : 2.870e+03 (less than 1 second per iteration)\n",
      " Threads    : 1\n",
      "\n",
      "                  Objective                Residual\n",
      "Iter       Primal          Dual         Primal    Dual     Compl     Time\n",
      "   0   2.24132154e+05 -2.24132154e+05  1.24e+04 1.01e-06  1.00e+06     0s\n",
      "   1   1.06498515e+05 -1.06521331e+05  1.15e+03 9.37e-08  1.03e+05     0s\n",
      "   2   1.95715880e+03 -1.98552630e+03  3.04e+01 2.47e-09  2.97e+03     0s\n",
      "   3   4.89857389e-02 -3.06582025e+01  7.77e-02 6.32e-12  9.14e+00     0s\n",
      "   4   1.39685870e-03 -2.13078550e+01  7.77e-08 2.78e-17  1.07e+00     0s\n",
      "   5   1.39657412e-03 -2.27301118e-02  1.03e-11 1.73e-18  1.21e-03     0s\n",
      "   6   1.07912414e-03 -1.20760964e-03  2.99e-13 1.73e-18  1.14e-04     0s\n",
      "   7   2.03248286e-04 -8.58937989e-04  6.94e-18 1.39e-17  5.31e-05     0s\n",
      "   8   1.06449385e-04 -5.68125335e-06  1.73e-18 1.56e-17  5.61e-06     0s\n",
      "   9   7.53407934e-05  3.82278469e-05  1.04e-17 1.52e-18  1.86e-06     0s\n",
      "  10   6.98447963e-05  6.65630225e-05  1.73e-18 3.50e-18  1.64e-07     0s\n",
      "  11   6.90023074e-05  6.85230598e-05  2.95e-17 2.39e-18  2.40e-08     0s\n",
      "  12   6.88263471e-05  6.88135228e-05  1.21e-17 4.10e-18  6.41e-10     0s\n",
      "  13   6.88184668e-05  6.88183612e-05  1.47e-17 2.07e-18  5.28e-12     0s\n",
      "\n",
      "Barrier solved model in 13 iterations and 0.02 seconds (0.00 work units)\n",
      "Optimal objective 6.88184668e-05\n",
      "\n"
     ]
    }
   ],
   "source": [
    "import gurobipy as gp\n",
    "from gurobipy import GRB\n",
    "from math import sqrt\n",
    "\n",
    "# Create an empty model\n",
    "m = gp.Model('portfolio')\n",
    "\n",
    "# Add matrix variable for the stocks\n",
    "x = m.addMVar(len(stocks))\n",
    "\n",
    "# Objective is to minimize risk (squared).  This is modeled using the\n",
    "# covariance matrix, which measures the historical correlation between stocks\n",
    "portfolio_risk = x @ sigma @ x\n",
    "m.setObjective(portfolio_risk, GRB.MINIMIZE)\n",
    "\n",
    "# Fix budget with a constraint\n",
    "m.addConstr(x.sum() == 1, 'budget')\n",
    "\n",
    "# Verify model formulation\n",
    "m.write('portfolio_selection_optimization.lp')\n",
    "\n",
    "# Optimize model to find the minimum risk portfolio\n",
    "m.optimize()\n",
    "m.getVars()\n",
    "m.write('./test.lp')"
   ]
  },
  {
   "cell_type": "markdown",
   "metadata": {},
   "source": [
    "## Display minimum risk portfolio using Pandas"
   ]
  },
  {
   "cell_type": "code",
   "execution_count": null,
   "metadata": {},
   "outputs": [],
   "source": [
    "import pandas as pd\n",
    "minrisk_volatility = sqrt(m.ObjVal)\n",
    "minrisk_return = delta @ x.X\n",
    "pd.DataFrame(data=np.append(x.X, [minrisk_volatility, minrisk_return]),\n",
    "             index=stocks + ['Volatility', 'Expected Return'],\n",
    "             columns=['Minimum Risk Portfolio'])"
   ]
  },
  {
   "cell_type": "markdown",
   "metadata": {},
   "source": [
    "## Compute the efficient frontier\n",
    "Solve the QP parametrically to find the lowest risk portfolio for different expected returns."
   ]
  },
  {
   "cell_type": "code",
   "execution_count": null,
   "metadata": {},
   "outputs": [],
   "source": [
    "# Create an expression representing the expected return for the portfolio\n",
    "portfolio_return = delta @ x\n",
    "target = m.addConstr(portfolio_return == minrisk_return, 'target')\n",
    "\n",
    "# Solve for efficient frontier by varying target return\n",
    "frontier = np.empty((2,0))\n",
    "for r in np.linspace(delta.min(), delta.max(), 25):\n",
    "    target.rhs = r\n",
    "    m.optimize()\n",
    "    frontier = np.append(frontier, [[sqrt(m.ObjVal)],[r]], axis=1)"
   ]
  },
  {
   "cell_type": "markdown",
   "metadata": {},
   "source": [
    "## Plot results\n",
    "Use the matplot library to plot the optimized solutions, along with the individual stocks:"
   ]
  },
  {
   "cell_type": "code",
   "execution_count": null,
   "metadata": {},
   "outputs": [],
   "source": [
    "import matplotlib.pyplot as plt\n",
    "#plt.figure(figsize=(10,10))\n",
    "\n",
    "fig, ax = plt.subplots(figsize=(10,8))\n",
    "\n",
    "# Plot volatility versus expected return for individual stocks\n",
    "ax.scatter(x=std, y=delta,\n",
    "           color='Blue', label='Individual Stocks')\n",
    "for i, stock in enumerate(stocks):\n",
    "    ax.annotate(stock, (std[i], delta[i]))\n",
    "\n",
    "# Plot volatility versus expected return for minimum risk portfolio\n",
    "ax.scatter(x=minrisk_volatility, y=minrisk_return, color='DarkGreen')\n",
    "ax.annotate('Minimum\\nRisk\\nPortfolio', (minrisk_volatility, minrisk_return),\n",
    "            horizontalalignment='right')\n",
    "\n",
    "# Plot efficient frontier\n",
    "ax.plot(frontier[0], frontier[1], label='Efficient Frontier', color='DarkGreen')\n",
    "\n",
    "# Format and display the final plot\n",
    "ax.axis([frontier[0].min()*0.7, frontier[0].max()*1.3, delta.min()*1.2, delta.max()*1.2])\n",
    "ax.set_xlabel('Volatility (standard deviation)')\n",
    "ax.set_ylabel('Expected Return')\n",
    "ax.legend()\n",
    "ax.grid()\n",
    "plt.show()"
   ]
  }
 ],
 "metadata": {
  "kernelspec": {
   "display_name": "Python 3 (ipykernel)",
   "language": "python",
   "name": "python3"
  },
  "language_info": {
   "codemirror_mode": {
    "name": "ipython",
    "version": 3
   },
   "file_extension": ".py",
   "mimetype": "text/x-python",
   "name": "python",
   "nbconvert_exporter": "python",
   "pygments_lexer": "ipython3",
   "version": "3.11.6"
  }
 },
 "nbformat": 4,
 "nbformat_minor": 4
}
