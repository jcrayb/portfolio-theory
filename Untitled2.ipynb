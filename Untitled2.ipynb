{
 "cells": [
  {
   "cell_type": "code",
   "execution_count": 2,
   "id": "22d7e956-f851-4f8a-bbc7-5a3aeec989ce",
   "metadata": {},
   "outputs": [],
   "source": [
    "import quarters\n",
    "import companies\n",
    "import numpy as np\n",
    "import pandas as pd\n",
    "import numpy.linalg as la\n",
    "import datetime\n",
    "import yfinance as yf\n",
    "\n",
    "start_year = 1995\n",
    "end_year = 2019\n",
    "a = np.array([0.023734,1.329796395805503/100])"
   ]
  },
  {
   "cell_type": "code",
   "execution_count": 3,
   "id": "b9b472d7-1208-4817-b75d-86e6e756a5f7",
   "metadata": {},
   "outputs": [],
   "source": [
    "def get_stock_weights(start_year, end_year, a):\n",
    "    rfr = quarters.get_mean_rfr_between_years(start_year, end_year)\n",
    "    gdp = quarters.get_gdp_growth_between_years(start_year, end_year)\n",
    "\n",
    "    returns = pd.read_csv(f'./data/returns/returns_{start_year}-{end_year}.csv').set_index('Unnamed: 0')\n",
    "\n",
    "    mu1 = returns.mean()\n",
    "    mu2 = np.array([np.mean(rfr), np.mean(gdp)])\n",
    "    #print(mu2)\n",
    "    all_companies = returns.columns\n",
    "    n_companies = returns.shape[1]\n",
    "\n",
    "    #adding external parameters\n",
    "    returns['avg_rfr'] = rfr\n",
    "    returns['gdp_growth'] = gdp\n",
    "\n",
    "    total_points = returns.shape[1]\n",
    "    \n",
    "    returns_array = returns.to_numpy().T.astype(float)\n",
    "    cov_array = np.cov(returns_array)\n",
    "    #print(cov_array)\n",
    "    sigma11 = cov_array[0:n_companies, 0:n_companies]\n",
    "    sigma21 = cov_array[n_companies:total_points, 0:n_companies]\n",
    "    sigma12 = cov_array[0:n_companies, n_companies:total_points]\n",
    "    sigma22 = cov_array[n_companies:total_points, n_companies:total_points]\n",
    "    #print(sigma12, sigma22)\n",
    "    mu = mu1 + sigma12@la.inv(sigma22)@(a-mu2)\n",
    "    sigma = sigma11 - sigma12@la.inv(sigma22)@sigma21\n",
    "    w_prime_cond = la.inv(sigma)@mu/(np.ones(n_companies)@la.inv(sigma)@mu)\n",
    "    w_prime = la.inv(sigma11)@mu1/(np.ones(n_companies)@la.inv(sigma11)@mu1)\n",
    "    return w_prime_cond, w_prime"
   ]
  },
  {
   "cell_type": "code",
   "execution_count": 4,
   "id": "c1ec72d2-05d4-4cc4-881a-a10a08412d38",
   "metadata": {},
   "outputs": [],
   "source": [
    "from compare import compare_to_benchmark"
   ]
  },
  {
   "cell_type": "code",
   "execution_count": 5,
   "id": "0d44c7c4-dcc9-4fd4-914b-3e60556b489c",
   "metadata": {},
   "outputs": [
    {
     "name": "stdout",
     "output_type": "stream",
     "text": [
      "Index(['MMM', 'ABT', 'ADM', 'ADP', 'APD', 'MO', 'AEP', 'AXP', 'AIG', 'AMGN',\n",
      "       ...\n",
      "       'UNP', 'UNH', 'VZ', 'VFC', 'WBA', 'WMT', 'WFC', 'WMB', 'GWW', 'XEL'],\n",
      "      dtype='object', length=134)\n"
     ]
    }
   ],
   "source": [
    "all_companies = pd.read_csv(f'./data/returns/returns_{start_year}-{end_year}.csv').set_index('Unnamed: 0').columns\n",
    "print(all_companies)\n",
    "\n",
    "w1=[4.948164430305507e-10, 1.7614318901641165e-10, 6.054779474920418e-11, 1.674731729151316e-10, 2.569755915855341e-10, 2.827317527962506e-10, 9.616344280281695e-11, 2.0975142017860457e-10, 5.7832938533018616e-11, 0.06424928354896987, 0.0776564712102905, 1.007349828822585e-10, 8.27234662419562e-11, 1.410265715153801e-10, 0.060337218917329224, 6.584838605758495e-10, 1.4099305466209813e-09, 8.835088840744245e-11, 6.654537647976172e-11, 7.45045826825152e-10, 8.617408924441119e-11, 2.1198561964766794e-10, 6.287875930867192e-10, 2.1103545376629222e-10, 5.35557685681256e-09, 1.9381310413578388e-10, 0.021603647481915227, 1.1017377376943919e-10, 3.369257750996578e-10, 4.5092855297839094e-11, 9.890873615465715e-11, 1.239279814191e-10, 8.17876777209958e-11, 9.479466931851645e-07, 1.6123667417226965e-10, 0.05279275863055685, 6.419636728092929e-10, 4.5579312293828696e-10, 1.6754295592690556e-10, 3.115919840001684e-10, 3.0228225285340565e-10, 1.8915272477236853e-10, 3.9565688092204253e-10, 1.3557369850474874e-10, 1.2724503616260303e-10, 1.5427081403547115e-10, 3.160649570670029e-07, 5.419302603402251e-10, 0.061082073817141584, 1.1365209425626975e-10, 1.5990439864430664e-09, 0.02868532426960694, 1.8976693990630016e-10, 1.8656158251492998e-10, 4.87318394574018e-11, 1.0838256108350161e-09, 6.1055744869548e-11, 3.8373454724845243e-10, 9.541610266551721e-11, 2.376917768994358e-10, 1.324985658885026e-08, 2.469509083938332e-10, 0.1505648019129846, 1.8390330018023353e-10, 1.414813940705103e-10, 8.032150169771836e-11, 1.1707231059718474e-10, 1.437369137874759e-09, 2.379231354644081e-10, 0.0011849361952237887, 1.9713876446725534e-10, 5.7299787871842845e-11, 3.926383447801879e-11, 2.4879101366812134e-10, 2.2163722452277884e-10, 3.4961713697069374e-10, 1.3997303825622446e-10, 2.457738567990632e-10, 3.6097233363777126e-10, 7.419898020544463e-10, 1.1212407353284104e-09, 1.5910672858455707e-10, 7.392863565808028e-10, 3.9775893996664633e-10, 5.832484529960382e-11, 1.0945847825720697e-10, 2.334075646829782e-10, 1.0992344632235027e-10, 6.46586260316562e-08, 0.017338836885694715, 2.2843553979136982e-10, 1.4022724667921105e-10, 3.7767666947699535e-10, 0.06783942425703335, 0.188263313207714, 0.03523747700819351, 1.6862574704417136e-10, 0.05582450465129036, 1.2029980725533022e-10, 0.05791009936285337, 1.1859018748570065e-09, 2.1444126758108567e-10, 7.035751660895268e-11, 1.7524857341445126e-10, 8.905842980809569e-11, 9.180761734797523e-10, 1.1557945726842773e-10, 9.374521305382879e-11, 2.7122919265920006e-08, 2.3110247797888886e-10, 1.388224381231746e-10, 1.6624592053649936e-10, 7.727383885988694e-09, 3.632924314892921e-10, 2.9013250801294707e-10, 1.5984588939353115e-10, 1.902888979622222e-10, 0.029761615672534214, 7.836683505535872e-11, 8.208927147000203e-11, 1.375652669841576e-10, 1.2048786973868133e-10, 5.01950683336383e-11, 0.029666762438158398, 2.4892168635455905e-08, 3.35703816859815e-09, 1.9611333484802927e-10, 1.4909605822540317e-10, 2.290200271858282e-10, 2.5589495453253075e-10, 7.139231564629211e-10, 9.468542872190775e-09, 2.3014316048292397e-10, 2.2610903586204142e-10]\n",
    "\n",
    "#comparison1= compare_to_benchmark([w1], all_companies, datetime.datetime(2019, 1, 1))"
   ]
  },
  {
   "cell_type": "code",
   "execution_count": 6,
   "id": "212ac656-73d5-4014-855e-11106b94349c",
   "metadata": {},
   "outputs": [
    {
     "name": "stdout",
     "output_type": "stream",
     "text": [
      "2019 Q1\n",
      "                           benchmark  portfolio_1  portfolio_2\n",
      "Date                                                          \n",
      "2019-01-02 00:00:00-05:00   1.000000     1.000000     1.000000\n",
      "2019-01-03 00:00:00-05:00   0.976137     0.984055     0.982593\n",
      "2019-01-04 00:00:00-05:00   1.008834     1.005228     1.003887\n",
      "2019-01-07 00:00:00-05:00   1.016788     1.008681     1.006862\n",
      "2019-01-08 00:00:00-05:00   1.026341     1.018921     1.016766\n",
      "...                              ...          ...          ...\n",
      "2019-03-25 00:00:00-04:00   1.120270     1.126475     1.127206\n",
      "2019-03-26 00:00:00-04:00   1.128620     1.134066     1.137596\n",
      "2019-03-27 00:00:00-04:00   1.122719     1.130415     1.134177\n",
      "2019-03-28 00:00:00-04:00   1.126975     1.130688     1.132896\n",
      "2019-03-29 00:00:00-04:00   1.134081     1.136722     1.139626\n",
      "\n",
      "[61 rows x 3 columns]\n",
      "2019 Q2\n"
     ]
    },
    {
     "name": "stderr",
     "output_type": "stream",
     "text": [
      "/tmp/ipykernel_84136/3706392213.py:27: SettingWithCopyWarning: \n",
      "A value is trying to be set on a copy of a slice from a DataFrame.\n",
      "Try using .loc[row_indexer,col_indexer] = value instead\n",
      "\n",
      "See the caveats in the documentation: https://pandas.pydata.org/pandas-docs/stable/user_guide/indexing.html#returning-a-view-versus-a-copy\n",
      "  range[column] *= value\n"
     ]
    },
    {
     "name": "stdout",
     "output_type": "stream",
     "text": [
      "                           benchmark  portfolio_1  portfolio_2\n",
      "Date                                                          \n",
      "2019-04-02 00:00:00-04:00   1.134081     1.136722     1.139626\n",
      "2019-04-03 00:00:00-04:00   1.135865     1.134626     1.137982\n",
      "2019-04-04 00:00:00-04:00   1.138879     1.136678     1.138943\n",
      "2019-04-05 00:00:00-04:00   1.144392     1.146262     1.146299\n",
      "2019-04-08 00:00:00-04:00   1.145264     1.147727     1.147868\n",
      "...                              ...          ...          ...\n",
      "2019-06-24 00:00:00-04:00   1.170162     1.213587     1.202651\n",
      "2019-06-25 00:00:00-04:00   1.158685     1.205181     1.188860\n",
      "2019-06-26 00:00:00-04:00   1.157529     1.196221     1.180041\n",
      "2019-06-27 00:00:00-04:00   1.161634     1.198042     1.179249\n",
      "2019-06-28 00:00:00-04:00   1.167611     1.200260     1.183716\n",
      "\n",
      "[62 rows x 3 columns]\n",
      "2019 Q3\n"
     ]
    },
    {
     "name": "stderr",
     "output_type": "stream",
     "text": [
      "/tmp/ipykernel_84136/3706392213.py:27: SettingWithCopyWarning: \n",
      "A value is trying to be set on a copy of a slice from a DataFrame.\n",
      "Try using .loc[row_indexer,col_indexer] = value instead\n",
      "\n",
      "See the caveats in the documentation: https://pandas.pydata.org/pandas-docs/stable/user_guide/indexing.html#returning-a-view-versus-a-copy\n",
      "  range[column] *= value\n"
     ]
    },
    {
     "name": "stdout",
     "output_type": "stream",
     "text": [
      "                           benchmark  portfolio_1  portfolio_2\n",
      "Date                                                          \n",
      "2019-07-02 00:00:00-04:00   1.167611     1.200260     1.183716\n",
      "2019-07-03 00:00:00-04:00   1.176947     1.211511     1.193143\n",
      "2019-07-05 00:00:00-04:00   1.175608     1.208244     1.189392\n",
      "2019-07-08 00:00:00-04:00   1.169148     1.205606     1.184741\n",
      "2019-07-09 00:00:00-04:00   1.170605     1.206463     1.185396\n",
      "...                              ...          ...          ...\n",
      "2019-09-24 00:00:00-04:00   1.170788     1.293437     1.245714\n",
      "2019-09-25 00:00:00-04:00   1.177713     1.293743     1.243887\n",
      "2019-09-26 00:00:00-04:00   1.175259     1.300620     1.247709\n",
      "2019-09-27 00:00:00-04:00   1.168928     1.292006     1.237091\n",
      "2019-09-30 00:00:00-04:00   1.174349     1.298307     1.238508\n",
      "\n",
      "[63 rows x 3 columns]\n",
      "2019 Q4\n"
     ]
    },
    {
     "name": "stderr",
     "output_type": "stream",
     "text": [
      "/tmp/ipykernel_84136/3706392213.py:27: SettingWithCopyWarning: \n",
      "A value is trying to be set on a copy of a slice from a DataFrame.\n",
      "Try using .loc[row_indexer,col_indexer] = value instead\n",
      "\n",
      "See the caveats in the documentation: https://pandas.pydata.org/pandas-docs/stable/user_guide/indexing.html#returning-a-view-versus-a-copy\n",
      "  range[column] *= value\n"
     ]
    },
    {
     "name": "stdout",
     "output_type": "stream",
     "text": [
      "                           benchmark  portfolio_1  portfolio_2\n",
      "Date                                                          \n",
      "2019-10-02 00:00:00-04:00   1.174349     1.298307     1.238508\n",
      "2019-10-03 00:00:00-04:00   1.183970     1.295009     1.239680\n",
      "2019-10-04 00:00:00-04:00   1.199992     1.318696     1.261943\n",
      "2019-10-07 00:00:00-04:00   1.194814     1.315097     1.259359\n",
      "2019-10-08 00:00:00-04:00   1.176265     1.301238     1.245569\n",
      "...                              ...          ...          ...\n",
      "2019-12-23 00:00:00-05:00   1.315973     1.340301     1.288161\n",
      "2019-12-24 00:00:00-05:00   1.316014     1.339039     1.287261\n",
      "2019-12-26 00:00:00-05:00   1.323019     1.340289     1.287366\n",
      "2019-12-27 00:00:00-05:00   1.322691     1.343513     1.290121\n",
      "2019-12-30 00:00:00-05:00   1.315399     1.340872     1.286354\n",
      "\n",
      "[62 rows x 3 columns]\n",
      "2020 Q1\n"
     ]
    },
    {
     "name": "stderr",
     "output_type": "stream",
     "text": [
      "/tmp/ipykernel_84136/3706392213.py:27: SettingWithCopyWarning: \n",
      "A value is trying to be set on a copy of a slice from a DataFrame.\n",
      "Try using .loc[row_indexer,col_indexer] = value instead\n",
      "\n",
      "See the caveats in the documentation: https://pandas.pydata.org/pandas-docs/stable/user_guide/indexing.html#returning-a-view-versus-a-copy\n",
      "  range[column] *= value\n"
     ]
    },
    {
     "name": "stdout",
     "output_type": "stream",
     "text": [
      "                           benchmark  portfolio_1  portfolio_2\n",
      "Date                                                          \n",
      "2020-01-02 00:00:00-05:00   1.315399     1.340872     1.286354\n",
      "2020-01-03 00:00:00-05:00   1.305438     1.340142     1.285486\n",
      "2020-01-06 00:00:00-05:00   1.310418     1.342521     1.287451\n",
      "2020-01-07 00:00:00-05:00   1.306734     1.335130     1.280267\n",
      "2020-01-08 00:00:00-05:00   1.313698     1.336187     1.281013\n",
      "...                              ...          ...          ...\n",
      "2020-03-25 00:00:00-04:00   1.005129     1.160693     1.115311\n",
      "2020-03-26 00:00:00-04:00   1.063818     1.238548     1.191137\n",
      "2020-03-27 00:00:00-04:00   1.032131     1.246724     1.199710\n",
      "2020-03-30 00:00:00-04:00   1.065651     1.284907     1.235901\n",
      "2020-03-31 00:00:00-04:00   1.049767     1.243208     1.196376\n",
      "\n",
      "[62 rows x 3 columns]\n",
      "2020 Q2\n"
     ]
    },
    {
     "name": "stderr",
     "output_type": "stream",
     "text": [
      "/tmp/ipykernel_84136/3706392213.py:27: SettingWithCopyWarning: \n",
      "A value is trying to be set on a copy of a slice from a DataFrame.\n",
      "Try using .loc[row_indexer,col_indexer] = value instead\n",
      "\n",
      "See the caveats in the documentation: https://pandas.pydata.org/pandas-docs/stable/user_guide/indexing.html#returning-a-view-versus-a-copy\n",
      "  range[column] *= value\n"
     ]
    },
    {
     "name": "stdout",
     "output_type": "stream",
     "text": [
      "                           benchmark  portfolio_1  portfolio_2\n",
      "Date                                                          \n",
      "2020-04-02 00:00:00-04:00   1.049767     1.243208     1.196376\n",
      "2020-04-03 00:00:00-04:00   1.034593     1.229018     1.182803\n",
      "2020-04-06 00:00:00-04:00   1.104083     1.296643     1.247510\n",
      "2020-04-07 00:00:00-04:00   1.105209     1.286747     1.237647\n",
      "2020-04-08 00:00:00-04:00   1.142309     1.323725     1.272600\n",
      "...                              ...          ...          ...\n",
      "2020-06-24 00:00:00-04:00   1.273194     1.357899     1.309617\n",
      "2020-06-25 00:00:00-04:00   1.286843     1.359313     1.310618\n",
      "2020-06-26 00:00:00-04:00   1.256278     1.338475     1.291144\n",
      "2020-06-29 00:00:00-04:00   1.274743     1.353748     1.306182\n",
      "2020-06-30 00:00:00-04:00   1.291072     1.374546     1.326139\n",
      "\n",
      "[62 rows x 3 columns]\n",
      "2020 Q3\n"
     ]
    },
    {
     "name": "stderr",
     "output_type": "stream",
     "text": [
      "/tmp/ipykernel_84136/3706392213.py:27: SettingWithCopyWarning: \n",
      "A value is trying to be set on a copy of a slice from a DataFrame.\n",
      "Try using .loc[row_indexer,col_indexer] = value instead\n",
      "\n",
      "See the caveats in the documentation: https://pandas.pydata.org/pandas-docs/stable/user_guide/indexing.html#returning-a-view-versus-a-copy\n",
      "  range[column] *= value\n"
     ]
    },
    {
     "name": "stdout",
     "output_type": "stream",
     "text": [
      "                           benchmark  portfolio_1  portfolio_2\n",
      "Date                                                          \n",
      "2020-07-02 00:00:00-04:00   1.291072     1.374546     1.326139\n",
      "2020-07-06 00:00:00-04:00   1.311002     1.386283     1.337733\n",
      "2020-07-07 00:00:00-04:00   1.297481     1.376900     1.328346\n",
      "2020-07-08 00:00:00-04:00   1.307405     1.392166     1.338179\n",
      "2020-07-09 00:00:00-04:00   1.299962     1.374502     1.319912\n",
      "...                              ...          ...          ...\n",
      "2020-09-24 00:00:00-04:00   1.343028     1.532308     1.373983\n",
      "2020-09-25 00:00:00-04:00   1.364741     1.555029     1.387476\n",
      "2020-09-28 00:00:00-04:00   1.387408     1.577547     1.404502\n",
      "2020-09-29 00:00:00-04:00   1.379852     1.571272     1.397551\n",
      "2020-09-30 00:00:00-04:00   1.390314     1.578452     1.410736\n",
      "\n",
      "[63 rows x 3 columns]\n",
      "2020 Q4\n"
     ]
    },
    {
     "name": "stderr",
     "output_type": "stream",
     "text": [
      "/tmp/ipykernel_84136/3706392213.py:27: SettingWithCopyWarning: \n",
      "A value is trying to be set on a copy of a slice from a DataFrame.\n",
      "Try using .loc[row_indexer,col_indexer] = value instead\n",
      "\n",
      "See the caveats in the documentation: https://pandas.pydata.org/pandas-docs/stable/user_guide/indexing.html#returning-a-view-versus-a-copy\n",
      "  range[column] *= value\n"
     ]
    },
    {
     "name": "stdout",
     "output_type": "stream",
     "text": [
      "                           benchmark  portfolio_1  portfolio_2\n",
      "Date                                                          \n",
      "2020-10-02 00:00:00-04:00   1.390314     1.578452     1.410736\n",
      "2020-10-05 00:00:00-04:00   1.414969     1.606287     1.435418\n",
      "2020-10-06 00:00:00-04:00   1.394854     1.584636     1.416315\n",
      "2020-10-07 00:00:00-04:00   1.419133     1.612342     1.441932\n",
      "2020-10-08 00:00:00-04:00   1.431710     1.637011     1.458461\n",
      "...                              ...          ...          ...\n",
      "2020-12-23 00:00:00-05:00   1.537312     1.725126     1.523964\n",
      "2020-12-24 00:00:00-05:00   1.543292     1.731536     1.529735\n",
      "2020-12-28 00:00:00-05:00   1.556551     1.736905     1.534327\n",
      "2020-12-29 00:00:00-05:00   1.553581     1.731717     1.529839\n",
      "2020-12-30 00:00:00-05:00   1.555798     1.738564     1.535039\n",
      "\n",
      "[62 rows x 3 columns]\n",
      "2021 Q1\n"
     ]
    },
    {
     "name": "stderr",
     "output_type": "stream",
     "text": [
      "/tmp/ipykernel_84136/3706392213.py:27: SettingWithCopyWarning: \n",
      "A value is trying to be set on a copy of a slice from a DataFrame.\n",
      "Try using .loc[row_indexer,col_indexer] = value instead\n",
      "\n",
      "See the caveats in the documentation: https://pandas.pydata.org/pandas-docs/stable/user_guide/indexing.html#returning-a-view-versus-a-copy\n",
      "  range[column] *= value\n"
     ]
    },
    {
     "name": "stdout",
     "output_type": "stream",
     "text": [
      "                           benchmark  portfolio_1  portfolio_2\n",
      "Date                                                          \n",
      "2021-01-04 00:00:00-05:00   1.555798     1.738564     1.535039\n",
      "2021-01-05 00:00:00-05:00   1.566513     1.756086     1.550378\n",
      "2021-01-06 00:00:00-05:00   1.575879     1.790546     1.581133\n",
      "2021-01-07 00:00:00-05:00   1.599292     1.800783     1.591793\n",
      "2021-01-08 00:00:00-05:00   1.608405     1.802980     1.592172\n",
      "...                              ...          ...          ...\n",
      "2021-03-25 00:00:00-04:00   1.649394     1.868735     1.658933\n",
      "2021-03-26 00:00:00-04:00   1.675974     1.899966     1.688324\n",
      "2021-03-29 00:00:00-04:00   1.675128     1.905972     1.692633\n",
      "2021-03-30 00:00:00-04:00   1.670684     1.887275     1.676600\n",
      "2021-03-31 00:00:00-04:00   1.677455     1.890080     1.677802\n",
      "\n",
      "[61 rows x 3 columns]\n",
      "2021 Q2\n"
     ]
    },
    {
     "name": "stderr",
     "output_type": "stream",
     "text": [
      "/tmp/ipykernel_84136/3706392213.py:27: SettingWithCopyWarning: \n",
      "A value is trying to be set on a copy of a slice from a DataFrame.\n",
      "Try using .loc[row_indexer,col_indexer] = value instead\n",
      "\n",
      "See the caveats in the documentation: https://pandas.pydata.org/pandas-docs/stable/user_guide/indexing.html#returning-a-view-versus-a-copy\n",
      "  range[column] *= value\n"
     ]
    },
    {
     "name": "stdout",
     "output_type": "stream",
     "text": [
      "                           benchmark  portfolio_1  portfolio_2\n",
      "Date                                                          \n",
      "2021-04-05 00:00:00-04:00   1.677455     1.890080     1.677802\n",
      "2021-04-06 00:00:00-04:00   1.676464     1.897877     1.684796\n",
      "2021-04-07 00:00:00-04:00   1.678405     1.900100     1.678546\n",
      "2021-04-08 00:00:00-04:00   1.686372     1.900346     1.679320\n",
      "2021-04-09 00:00:00-04:00   1.698632     1.907356     1.680475\n",
      "...                              ...          ...          ...\n",
      "2021-06-24 00:00:00-04:00   1.760555     1.968007     1.745408\n",
      "2021-06-25 00:00:00-04:00   1.766809     1.985186     1.761611\n",
      "2021-06-28 00:00:00-04:00   1.770370     1.982068     1.757663\n",
      "2021-06-29 00:00:00-04:00   1.771323     1.969784     1.747059\n",
      "2021-06-30 00:00:00-04:00   1.772814     1.981510     1.751994\n",
      "\n",
      "[62 rows x 3 columns]\n",
      "2021 Q3\n"
     ]
    },
    {
     "name": "stderr",
     "output_type": "stream",
     "text": [
      "/tmp/ipykernel_84136/3706392213.py:27: SettingWithCopyWarning: \n",
      "A value is trying to be set on a copy of a slice from a DataFrame.\n",
      "Try using .loc[row_indexer,col_indexer] = value instead\n",
      "\n",
      "See the caveats in the documentation: https://pandas.pydata.org/pandas-docs/stable/user_guide/indexing.html#returning-a-view-versus-a-copy\n",
      "  range[column] *= value\n"
     ]
    },
    {
     "name": "stdout",
     "output_type": "stream",
     "text": [
      "                           benchmark  portfolio_1  portfolio_2\n",
      "Date                                                          \n",
      "2021-07-02 00:00:00-04:00   1.772814     1.981510     1.751994\n",
      "2021-07-06 00:00:00-04:00   1.769585     1.978717     1.747447\n",
      "2021-07-07 00:00:00-04:00   1.775839     1.983550     1.751156\n",
      "2021-07-08 00:00:00-04:00   1.761369     1.979375     1.746186\n",
      "2021-07-09 00:00:00-04:00   1.780171     1.991610     1.757339\n",
      "...                              ...          ...          ...\n",
      "2021-09-24 00:00:00-04:00   1.820278     2.015648     1.776766\n",
      "2021-09-27 00:00:00-04:00   1.815071     2.001571     1.764343\n",
      "2021-09-28 00:00:00-04:00   1.778494     1.979125     1.741214\n",
      "2021-09-29 00:00:00-04:00   1.781487     1.996939     1.756200\n",
      "2021-09-30 00:00:00-04:00   1.759713     1.983034     1.741640\n",
      "\n",
      "[63 rows x 3 columns]\n",
      "2021 Q4\n"
     ]
    },
    {
     "name": "stderr",
     "output_type": "stream",
     "text": [
      "/tmp/ipykernel_84136/3706392213.py:27: SettingWithCopyWarning: \n",
      "A value is trying to be set on a copy of a slice from a DataFrame.\n",
      "Try using .loc[row_indexer,col_indexer] = value instead\n",
      "\n",
      "See the caveats in the documentation: https://pandas.pydata.org/pandas-docs/stable/user_guide/indexing.html#returning-a-view-versus-a-copy\n",
      "  range[column] *= value\n"
     ]
    },
    {
     "name": "stdout",
     "output_type": "stream",
     "text": [
      "                           benchmark  portfolio_1  portfolio_2\n",
      "Date                                                          \n",
      "2021-10-04 00:00:00-04:00   1.759713     1.983034     1.741640\n",
      "2021-10-05 00:00:00-04:00   1.778023     1.995980     1.752357\n",
      "2021-10-06 00:00:00-04:00   1.785412     2.018093     1.771393\n",
      "2021-10-07 00:00:00-04:00   1.800849     2.027632     1.771053\n",
      "2021-10-08 00:00:00-04:00   1.797564     2.023319     1.769001\n",
      "...                              ...          ...          ...\n",
      "2021-12-23 00:00:00-05:00   1.938761     2.223589     1.890616\n",
      "2021-12-27 00:00:00-05:00   1.966198     2.249265     1.907489\n",
      "2021-12-28 00:00:00-05:00   1.964592     2.256063     1.919699\n",
      "2021-12-29 00:00:00-05:00   1.967105     2.267431     1.932176\n",
      "2021-12-30 00:00:00-05:00   1.961667     2.270730     1.935289\n",
      "\n",
      "[62 rows x 3 columns]\n",
      "2022 Q1\n"
     ]
    },
    {
     "name": "stderr",
     "output_type": "stream",
     "text": [
      "/tmp/ipykernel_84136/3706392213.py:27: SettingWithCopyWarning: \n",
      "A value is trying to be set on a copy of a slice from a DataFrame.\n",
      "Try using .loc[row_indexer,col_indexer] = value instead\n",
      "\n",
      "See the caveats in the documentation: https://pandas.pydata.org/pandas-docs/stable/user_guide/indexing.html#returning-a-view-versus-a-copy\n",
      "  range[column] *= value\n"
     ]
    },
    {
     "name": "stdout",
     "output_type": "stream",
     "text": [
      "                           benchmark  portfolio_1  portfolio_2\n",
      "Date                                                          \n",
      "2022-01-03 00:00:00-05:00   1.961667     2.270730     1.935289\n",
      "2022-01-04 00:00:00-05:00   1.961010     2.276258     1.947766\n",
      "2022-01-05 00:00:00-05:00   1.923354     2.262758     1.935629\n",
      "2022-01-06 00:00:00-05:00   1.921547     2.239163     1.925644\n",
      "2022-01-07 00:00:00-05:00   1.913950     2.244218     1.930525\n",
      "...                              ...          ...          ...\n",
      "2022-03-25 00:00:00-04:00   1.864700     2.434052     2.096304\n",
      "2022-03-28 00:00:00-04:00   1.877963     2.428156     2.091039\n",
      "2022-03-29 00:00:00-04:00   1.901196     2.443612     2.111421\n",
      "2022-03-30 00:00:00-04:00   1.889456     2.457320     2.120632\n",
      "2022-03-31 00:00:00-04:00   1.860375     2.439687     2.104081\n",
      "\n",
      "[62 rows x 3 columns]\n",
      "2022 Q2\n"
     ]
    },
    {
     "name": "stderr",
     "output_type": "stream",
     "text": [
      "/tmp/ipykernel_84136/3706392213.py:27: SettingWithCopyWarning: \n",
      "A value is trying to be set on a copy of a slice from a DataFrame.\n",
      "Try using .loc[row_indexer,col_indexer] = value instead\n",
      "\n",
      "See the caveats in the documentation: https://pandas.pydata.org/pandas-docs/stable/user_guide/indexing.html#returning-a-view-versus-a-copy\n",
      "  range[column] *= value\n"
     ]
    },
    {
     "name": "stdout",
     "output_type": "stream",
     "text": [
      "                           benchmark  portfolio_1  portfolio_2\n",
      "Date                                                          \n",
      "2022-04-04 00:00:00-04:00   1.860375     2.439687     2.104081\n",
      "2022-04-05 00:00:00-04:00   1.836876     2.430331     2.095546\n",
      "2022-04-06 00:00:00-04:00   1.818508     2.438584     2.107835\n",
      "2022-04-07 00:00:00-04:00   1.827672     2.455626     2.127806\n",
      "2022-04-08 00:00:00-04:00   1.822784     2.461767     2.144227\n",
      "...                              ...          ...          ...\n",
      "2022-06-24 00:00:00-04:00   1.595512     2.184385     1.961529\n",
      "2022-06-27 00:00:00-04:00   1.589417     2.186948     1.962162\n",
      "2022-06-28 00:00:00-04:00   1.556941     2.160175     1.946767\n",
      "2022-06-29 00:00:00-04:00   1.555673     2.149457     1.943403\n",
      "2022-06-30 00:00:00-04:00   1.543034     2.142073     1.930784\n",
      "\n",
      "[61 rows x 3 columns]\n",
      "2022 Q3\n",
      "                           benchmark  portfolio_1  portfolio_2\n",
      "Date                                                          \n",
      "2022-07-05 00:00:00-04:00   1.543034     2.142073     1.930784\n",
      "2022-07-06 00:00:00-04:00   1.548246     2.161468     1.942558\n",
      "2022-07-07 00:00:00-04:00   1.571434     2.179831     1.957715\n",
      "2022-07-08 00:00:00-04:00   1.570141     2.177391     1.943104\n",
      "2022-07-11 00:00:00-04:00   1.552205     2.169939     1.932483\n",
      "...                              ...          ...          ...\n",
      "2022-09-26 00:00:00-04:00   1.477778     2.068204     1.830298\n",
      "2022-09-27 00:00:00-04:00   1.474005     2.063634     1.816378\n",
      "2022-09-28 00:00:00-04:00   1.503008     2.109342     1.855260\n",
      "2022-09-29 00:00:00-04:00   1.471612     2.063087     1.824106\n",
      "2022-09-30 00:00:00-04:00   1.448856     2.034918     1.803862\n",
      "\n",
      "[63 rows x 3 columns]\n",
      "2022 Q4\n"
     ]
    },
    {
     "name": "stderr",
     "output_type": "stream",
     "text": [
      "/tmp/ipykernel_84136/3706392213.py:27: SettingWithCopyWarning: \n",
      "A value is trying to be set on a copy of a slice from a DataFrame.\n",
      "Try using .loc[row_indexer,col_indexer] = value instead\n",
      "\n",
      "See the caveats in the documentation: https://pandas.pydata.org/pandas-docs/stable/user_guide/indexing.html#returning-a-view-versus-a-copy\n",
      "  range[column] *= value\n"
     ]
    },
    {
     "ename": "KeyError",
     "evalue": "'Q4'",
     "output_type": "error",
     "traceback": [
      "\u001b[0;31m---------------------------------------------------------------------------\u001b[0m",
      "\u001b[0;31mKeyError\u001b[0m                                  Traceback (most recent call last)",
      "Cell \u001b[0;32mIn[6], line 12\u001b[0m\n\u001b[1;32m     10\u001b[0m \u001b[38;5;28mprint\u001b[39m(year, quarter)\n\u001b[1;32m     11\u001b[0m str_year \u001b[38;5;241m=\u001b[39m \u001b[38;5;28mstr\u001b[39m(year)\n\u001b[0;32m---> 12\u001b[0m w1 \u001b[38;5;241m=\u001b[39m \u001b[43mweights1\u001b[49m\u001b[43m[\u001b[49m\u001b[43mstr_year\u001b[49m\u001b[43m]\u001b[49m\u001b[43m[\u001b[49m\u001b[43mquarter\u001b[49m\u001b[43m]\u001b[49m[\u001b[38;5;124m'\u001b[39m\u001b[38;5;124mweights\u001b[39m\u001b[38;5;124m'\u001b[39m]\n\u001b[1;32m     13\u001b[0m w2 \u001b[38;5;241m=\u001b[39m weights2[str_year][quarter][\u001b[38;5;124m'\u001b[39m\u001b[38;5;124mweights\u001b[39m\u001b[38;5;124m'\u001b[39m]\n\u001b[1;32m     15\u001b[0m start_date \u001b[38;5;241m=\u001b[39m q_dates[year][quarter][\u001b[38;5;124m'\u001b[39m\u001b[38;5;124mstart\u001b[39m\u001b[38;5;124m'\u001b[39m]\n",
      "\u001b[0;31mKeyError\u001b[0m: 'Q4'"
     ]
    }
   ],
   "source": [
    "import json\n",
    "q_dates = quarters.get_dates_between_years(2019, 2023)\n",
    "weights1 = json.load(open('./weights_rfr_gdp.json', 'r'))\n",
    "weights2 = json.load(open('./full_weights.json', 'r'))\n",
    "\n",
    "df = pd.DataFrame(columns=['benchmark'])\n",
    "\n",
    "for year in q_dates:\n",
    "    for quarter in q_dates[year]:\n",
    "        print(year, quarter)\n",
    "        str_year = str(year)\n",
    "        w1 = weights1[str_year][quarter]['weights']\n",
    "        w2 = weights2[str_year][quarter]['weights']\n",
    "        \n",
    "        start_date = q_dates[year][quarter]['start']\n",
    "        end_date = q_dates[year][quarter]['end']\n",
    "        \n",
    "        comparison = compare_to_benchmark([w1, w2], all_companies, start_date)\n",
    "        range = comparison.loc[(comparison.index>=start_date) & (comparison.index<=end_date)]\n",
    "        if df.empty:\n",
    "            df = range\n",
    "        else:\n",
    "            last_row = df.iloc[-1]\n",
    "\n",
    "            for column in last_row.index:\n",
    "                value = last_row[column]\n",
    "                range[column] *= value\n",
    "            \n",
    "            df = pd.concat([df, range])\n",
    "        print(range)"
   ]
  },
  {
   "cell_type": "code",
   "execution_count": null,
   "id": "e6583d19-9dfc-41d0-955e-3833a4c2fd36",
   "metadata": {},
   "outputs": [],
   "source": [
    "import plotly.express as px\n",
    "#comparison['benchmark']  = comparison\n",
    "px.line(comparison1)"
   ]
  },
  {
   "cell_type": "code",
   "execution_count": null,
   "id": "3e408133-4182-4c63-a4cd-58da2a751fca",
   "metadata": {},
   "outputs": [],
   "source": []
  }
 ],
 "metadata": {
  "kernelspec": {
   "display_name": "Python 3 (ipykernel)",
   "language": "python",
   "name": "python3"
  },
  "language_info": {
   "codemirror_mode": {
    "name": "ipython",
    "version": 3
   },
   "file_extension": ".py",
   "mimetype": "text/x-python",
   "name": "python",
   "nbconvert_exporter": "python",
   "pygments_lexer": "ipython3",
   "version": "3.11.3"
  }
 },
 "nbformat": 4,
 "nbformat_minor": 5
}
