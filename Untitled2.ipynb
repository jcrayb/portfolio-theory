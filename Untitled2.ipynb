{
 "cells": [
  {
   "cell_type": "code",
   "execution_count": 3,
   "id": "22d7e956-f851-4f8a-bbc7-5a3aeec989ce",
   "metadata": {},
   "outputs": [],
   "source": [
    "import quarters\n",
    "import companies\n",
    "import numpy as np\n",
    "import pandas as pd\n",
    "import numpy.linalg as la\n",
    "import datetime\n",
    "import yfinance as yf\n",
    "\n",
    "start_year = 1995\n",
    "end_year = 2019\n",
    "a = np.array([5.33/100, 0.9301660004562612/100])"
   ]
  },
  {
   "cell_type": "code",
   "execution_count": 5,
   "id": "b9b472d7-1208-4817-b75d-86e6e756a5f7",
   "metadata": {},
   "outputs": [],
   "source": [
    "def get_stock_weights(start_year, end_year, a):\n",
    "    rfr = quarters.get_mean_rfr_between_years(start_year, end_year)\n",
    "    gdp = quarters.get_gdp_growth_between_years(start_year, end_year)\n",
    "    \n",
    "    returns = pd.read_csv(f'./data/returns/returns_{start_year}-{end_year}.csv').set_index('Unnamed: 0')\n",
    "\n",
    "    mu1 = returns.mean()\n",
    "    mu2 = np.array([np.mean(rfr), np.mean(gdp)])\n",
    "    #print(mu2)\n",
    "    all_companies = returns.columns\n",
    "    n_companies = returns.shape[1]\n",
    "\n",
    "    #adding external parameters\n",
    "    returns['avg_rfr'] = rfr\n",
    "    returns['gdp_growth'] = gdp\n",
    "\n",
    "    total_points = returns.shape[1]\n",
    "    \n",
    "    returns_array = returns.to_numpy().T.astype(float)\n",
    "    cov_array = np.cov(returns_array)\n",
    "    #print(cov_array)\n",
    "    sigma11 = cov_array[0:n_companies, 0:n_companies]\n",
    "    sigma21 = cov_array[n_companies:total_points, 0:n_companies]\n",
    "    sigma12 = cov_array[0:n_companies, n_companies:total_points]\n",
    "    sigma22 = cov_array[n_companies:total_points, n_companies:total_points]\n",
    "    #print(sigma12, sigma22)\n",
    "    mu = mu1 + sigma12@la.inv(sigma22)@(a-mu2)\n",
    "    sigma = sigma11 - sigma12@la.inv(sigma22)@sigma21\n",
    "    w_prime_cond = la.inv(sigma)@mu/(np.ones(n_companies)@la.inv(sigma)@mu)\n",
    "    return w_prime_cond"
   ]
  },
  {
   "cell_type": "code",
   "execution_count": 8,
   "id": "e6f96768-fd0e-4b71-9b3c-63d294d9381d",
   "metadata": {},
   "outputs": [
    {
     "data": {
      "text/plain": [
       "array([-0.25813408, -0.11594603, -0.4787167 ,  2.12029684,  0.05684099,\n",
       "        0.09778387,  0.69093078, -0.81101248,  0.58699215, -0.79145105,\n",
       "       -0.27669589, -4.52341803,  0.98691542, -0.61848761,  0.74195342,\n",
       "        1.48618755,  0.49929005,  1.88386131, -0.00725722,  0.57627611,\n",
       "        2.62340074,  1.33757374,  0.00723572,  0.80204833, -3.42747794,\n",
       "       -1.91051737, -0.7573332 , -1.11192134, -0.88414631, -0.41170464,\n",
       "        0.32931905, -0.91662678, -0.31580749,  1.39124812,  3.89266463,\n",
       "        0.93342458, -0.01552868, -0.25238277, -0.46568775,  0.63341597,\n",
       "        1.60855456,  1.33992723,  1.23167671, -3.71997443,  0.07445461,\n",
       "       -2.61509462, -0.72710805, -1.29478241, -0.40408334,  1.44551854,\n",
       "       -0.35686746,  0.42516956,  0.48387435, -0.90201988,  0.9182845 ,\n",
       "        0.59127526,  1.99830731,  0.38190963, -2.699223  , -4.14859192,\n",
       "       -0.72847472,  0.25882254, -1.29778435, -1.20208841, -1.18515919,\n",
       "        1.1437559 ,  0.72814017,  0.76816462,  1.10051702, -2.12359463,\n",
       "       -0.3245176 , -0.22097736, -0.50494049,  2.44422939,  0.05546312,\n",
       "       -2.77594256,  0.1054867 ,  2.7145732 ,  0.650638  , -1.16340434,\n",
       "        0.50269727, -0.38408465,  1.31052857,  0.42649916, -0.45277915,\n",
       "       -0.47957376,  0.44877757,  1.113883  ,  0.23578373, -0.22864976,\n",
       "        1.31724801, -0.89413846,  1.18555664,  0.10931191,  0.64935709,\n",
       "        0.03132939,  0.65130449, -0.04456272,  0.8320389 , -0.55840178,\n",
       "        0.22125756,  0.95558852,  1.12684068,  1.63530943, -0.25452979,\n",
       "       -0.62490487, -0.16756329, -0.89032358, -0.34666789,  0.67316362,\n",
       "       -0.9143526 , -0.30660433, -1.62748675,  0.35012598,  0.93809922,\n",
       "       -1.07354322,  0.02737921, -0.22694919, -2.24218962,  0.7769666 ,\n",
       "       -0.91211581,  2.49620869, -0.63155194, -0.88268145,  1.07285088,\n",
       "        0.90379233,  0.59514199,  0.31604695, -0.50481237,  0.64407866,\n",
       "       -0.63589633,  0.39393103, -0.8554655 , -0.20278844])"
      ]
     },
     "execution_count": 8,
     "metadata": {},
     "output_type": "execute_result"
    }
   ],
   "source": [
    "#weights_dict = {}\n",
    "#for year in range(1995, 2019):\n",
    "weights = get_stock_weights(start_year, end_year, a)\n",
    "weights"
   ]
  },
  {
   "cell_type": "code",
   "execution_count": null,
   "id": "c1ec72d2-05d4-4cc4-881a-a10a08412d38",
   "metadata": {},
   "outputs": [],
   "source": []
  },
  {
   "cell_type": "code",
   "execution_count": null,
   "id": "2476200d-d2d8-4d8f-9df5-73480fd15fa8",
   "metadata": {},
   "outputs": [],
   "source": []
  },
  {
   "cell_type": "code",
   "execution_count": null,
   "id": "e6583d19-9dfc-41d0-955e-3833a4c2fd36",
   "metadata": {},
   "outputs": [],
   "source": []
  }
 ],
 "metadata": {
  "kernelspec": {
   "display_name": "Python 3 (ipykernel)",
   "language": "python",
   "name": "python3"
  },
  "language_info": {
   "codemirror_mode": {
    "name": "ipython",
    "version": 3
   },
   "file_extension": ".py",
   "mimetype": "text/x-python",
   "name": "python",
   "nbconvert_exporter": "python",
   "pygments_lexer": "ipython3",
   "version": "3.11.5"
  }
 },
 "nbformat": 4,
 "nbformat_minor": 5
}
