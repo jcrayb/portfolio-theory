{
 "cells": [
  {
   "cell_type": "code",
   "execution_count": 1,
   "id": "5c01b382-7b83-41f9-a3d5-63899df9f73d",
   "metadata": {},
   "outputs": [],
   "source": [
    "import json\n",
    "\n",
    "weights = json.load(open('./2017-2024-rfr-gdp.json', 'r'))"
   ]
  },
  {
   "cell_type": "code",
   "execution_count": 21,
   "id": "c2accea6-d6da-47e0-8cac-43409c2145fc",
   "metadata": {},
   "outputs": [],
   "source": [
    "import companies\n",
    "import pandas as pd\n",
    "\n",
    "all = companies.get_throughout(1995)\n",
    "\n",
    "all = pd.read_csv(f'./data/returns/returns_1995-2019.csv').set_index('Unnamed: 0').columns\n",
    "\n",
    "w = weights['2023']['Q4']['weights']\n",
    "\n",
    "tickers = [all[i] for i in range(len(all)) if w[i] > 0.001]"
   ]
  },
  {
   "cell_type": "code",
   "execution_count": 25,
   "id": "4590b863-7d96-4052-b3d7-95db82aad456",
   "metadata": {},
   "outputs": [
    {
     "name": "stdout",
     "output_type": "stream",
     "text": [
      "['AMGN', 'AAPL', 'BALL', 'COST', 'LLY', 'HSY', 'HES', 'JNJ', 'LMT', 'MRK', 'MSFT', 'TAP', 'NEM', 'NEE', 'NKE', 'OXY', 'ORCL', 'SO', 'TJX', 'WMT']\n"
     ]
    }
   ],
   "source": [
    "import yfinance as yf\n",
    "\n",
    "print([ticker for ticker in tickers])"
   ]
  },
  {
   "cell_type": "code",
   "execution_count": 60,
   "id": "9f20c536-973b-41b5-acc5-686500c4b218",
   "metadata": {
    "scrolled": true
   },
   "outputs": [],
   "source": [
    "import numpy as np\n",
    "\n",
    "filtered = np.array([w[i] if w[i] > 0.001 else 0 for i in range(len(all))])\n",
    "\n",
    "filtered /= filtered.sum()\n",
    "\n",
    "weights_w_names = {}\n",
    "\n",
    "for i in range(len(all)):\n",
    "    weights_w_names[all[i]] = filtered[i]\n",
    "    \n",
    "shares = dollar_amount(weights_w_names, 1000)"
   ]
  },
  {
   "cell_type": "code",
   "execution_count": 61,
   "id": "f1795991-16a3-4854-8eb8-96f138d34e62",
   "metadata": {},
   "outputs": [],
   "source": [
    "import yfinance_cache as yfc\n",
    "\n",
    "def dollar_amount(weight_with_names, total_dollar_amount):\n",
    "    shares_per_company = {}\n",
    "    for company in weight_with_names:\n",
    "        ticker = yfc.Ticker(company)\n",
    "        fraction = weight_with_names[company]\n",
    "\n",
    "        dollars = fraction*total_dollar_amount\n",
    "    \n",
    "        shares = dollars/ticker.history(period=\"1d\")['Close'][-1]\n",
    "        if not shares:\n",
    "            continue\n",
    "        shares_per_company[company] = shares\n",
    "    return shares_per_company"
   ]
  },
  {
   "cell_type": "code",
   "execution_count": 62,
   "id": "6bff873b-6e1f-441b-9e89-f0f6976c6b59",
   "metadata": {},
   "outputs": [],
   "source": [
    "filtered_shares = [(company, shares[company]) for company in shares if shares[company] >0]"
   ]
  },
  {
   "cell_type": "code",
   "execution_count": 63,
   "id": "9eca81ee-67ba-4a8e-9ad2-5a1f63db7eab",
   "metadata": {},
   "outputs": [
    {
     "data": {
      "text/plain": [
       "{'AMGN': 0.24328241943934384,\n",
       " 'AAPL': 0.016707225194238597,\n",
       " 'BALL': 0.547945680392798,\n",
       " 'COST': 0.06344206940419718,\n",
       " 'LLY': 0.09220540482402101,\n",
       " 'HSY': 0.1359176581480419,\n",
       " 'HES': 0.007774142999275892,\n",
       " 'JNJ': 0.38478968084021636,\n",
       " 'LMT': 0.11637228214576155,\n",
       " 'MRK': 0.3843358426463536,\n",
       " 'MSFT': 0.04468850247926137,\n",
       " 'TAP': 0.061768379727357936,\n",
       " 'NEM': 0.05652489223248224,\n",
       " 'NEE': 0.340408540938681,\n",
       " 'NKE': 0.146810685112202,\n",
       " 'OXY': 1.1341971532071815,\n",
       " 'ORCL': 0.6531986744697578,\n",
       " 'SO': 4.567416652562504,\n",
       " 'TJX': 0.6020348829202654,\n",
       " 'WMT': 0.3008371035805588}"
      ]
     },
     "execution_count": 63,
     "metadata": {},
     "output_type": "execute_result"
    }
   ],
   "source": [
    "shares"
   ]
  },
  {
   "cell_type": "code",
   "execution_count": 65,
   "id": "3c3295d2-e8d3-43e6-8a65-f070f6760880",
   "metadata": {},
   "outputs": [
    {
     "data": {
      "text/plain": [
       "Date\n",
       "1962-03-14 00:00:00-05:00    0.001563\n",
       "1962-06-14 00:00:00-04:00    0.001563\n",
       "1962-09-14 00:00:00-04:00    0.001563\n",
       "1962-12-14 00:00:00-05:00    0.001563\n",
       "1963-03-14 00:00:00-05:00    0.001563\n",
       "                               ...   \n",
       "2022-09-14 00:00:00-04:00    0.940000\n",
       "2022-12-21 00:00:00-05:00    0.940000\n",
       "2023-03-23 00:00:00-04:00    0.940000\n",
       "2023-06-14 00:00:00-04:00    0.940000\n",
       "2023-09-14 00:00:00-04:00    0.980000\n",
       "Name: Dividends, Length: 248, dtype: float64"
      ]
     },
     "execution_count": 65,
     "metadata": {},
     "output_type": "execute_result"
    }
   ],
   "source": [
    "yf.Ticker('MO').dividends"
   ]
  },
  {
   "cell_type": "code",
   "execution_count": null,
   "id": "e8c7fbd8-6bd1-497e-b2f4-d48cf308bda8",
   "metadata": {},
   "outputs": [],
   "source": []
  }
 ],
 "metadata": {
  "kernelspec": {
   "display_name": "Python 3 (ipykernel)",
   "language": "python",
   "name": "python3"
  },
  "language_info": {
   "codemirror_mode": {
    "name": "ipython",
    "version": 3
   },
   "file_extension": ".py",
   "mimetype": "text/x-python",
   "name": "python",
   "nbconvert_exporter": "python",
   "pygments_lexer": "ipython3",
   "version": "3.11.6"
  }
 },
 "nbformat": 4,
 "nbformat_minor": 5
}
